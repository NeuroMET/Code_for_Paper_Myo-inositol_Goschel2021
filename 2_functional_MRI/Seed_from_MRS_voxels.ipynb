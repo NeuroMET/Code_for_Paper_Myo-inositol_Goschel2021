{
 "cells": [
  {
   "cell_type": "markdown",
   "metadata": {},
   "source": [
    "# MRS Voxel to ROI"
   ]
  },
  {
   "cell_type": "markdown",
   "metadata": {},
   "source": [
    "get the MRS voxel coordinates data from a CSV of RDAs headers, make a sphere in subject space centered on the voxel center and coregister it in MNI space"
   ]
  },
  {
   "cell_type": "code",
   "execution_count": 5,
   "metadata": {},
   "outputs": [],
   "source": [
    "import csv\n",
    "import json\n",
    "import os\n",
    "import numpy as np\n",
    "import nibabel as nib\n",
    "import pandas as pd\n",
    "import suspect"
   ]
  },
  {
   "cell_type": "markdown",
   "metadata": {},
   "source": [
    "# Make a DataFrame with .rda headers' data"
   ]
  },
  {
   "cell_type": "code",
   "execution_count": 6,
   "metadata": {},
   "outputs": [],
   "source": [
    "from suspect import MRSData, transformation_matrix\n",
    "\n",
    "import numpy\n",
    "import struct\n",
    "import re\n",
    "\n",
    "# The RDA format consists of a large number of key value pairs followed by raw\n",
    "# data. The values need to be cast into different datatypes depending on the\n",
    "# key, this dictionary stores a mapping of key to datatype.\n",
    "\n",
    "rda_types = {\n",
    "    \"floats\": [\"PatientWeight\", \"TR\", \"TE\", \"TM\", \"TI\", \"DwellTime\", \"NumberOfAverages\",\n",
    "               \"MRFrequency\", \"MagneticFieldStrength\", \"FlipAngle\", \"SliceThickness\",\n",
    "               \"FoVHeight\", \"FoVWidth\", \"PercentOfRectFoV\", \"PixelSpacingRow\",\n",
    "               \"PixelSpacingCol\", \"VOIPositionSag\", \"VOIPositionCor\",\n",
    "               \"VOIPositionTra\", \"VOIThickness\", \"VOIPhaseFOV\", \"VOIReadoutFOV\",\n",
    "               \"VOIReadoutVOV\", \"VOINormalSag\", \"VOINormalCor\", \"VOINormalTra\",\n",
    "               \"VOIRotationInPlane\", \"FoV3D\", \"PixelSpacing3D\"],\n",
    "    \"integers\": [\"SeriesNumber\", \"InstanceNumber\", \"AcquisitionNumber\", \"NumOfPhaseEncodingSteps\",\n",
    "                 \"NumberOfRows\", \"NumberOfColumns\", \"VectorSize\", \"EchoNumber\",\n",
    "                 \"NumberOf3DParts\", \"HammingFilterWidth\", \"NumberOfEchoes\"],\n",
    "    \"strings\": [\"PatientID\", \"PatientName\", \"StudyDescription\", \"PatientBirthDate\",\n",
    "                \"StudyDate\", \"StudyTime\", \"PatientAge\", \"SeriesDate\", \"SeriesTime\",\n",
    "                \"SeriesDescription\", \"ProtocolName\", \"PatientPosition\", \"ModelName\",\n",
    "                \"StationName\", \"InstitutionName\", \"DeviceSerialNumber\", \"InstanceDate\",\n",
    "                \"InstanceTime\", \"InstanceComments\", \"SequenceName\", \"SequenceDescription\",\n",
    "                \"Nucleus\", \"TransmitCoil\", \"PatientSex\", \"HammingFilter\", \"FrequencyCorrection\"],\n",
    "    \"float_arrays\": [\"PositionVector\", \"RowVector\", \"ColumnVector\"],\n",
    "    \"integer_arrays\": [\"CSIMatrixSize\", \"CSIMatrixSizeOfScan\", \"CSIGridShift\"],\n",
    "    \"string_arrays\": [\"SoftwareVersion\"],\n",
    "    \"dictionaries\": [\"TransmitRefAmplitude\"]\n",
    "}\n",
    "\n",
    "\n",
    "def load_rda(json_el):\n",
    "    global rda_types\n",
    "    header_dict = {}\n",
    "    for i in json_el:\n",
    "        key = i\n",
    "        value = json_el[i]\n",
    "        try:\n",
    "            if key in rda_types[\"strings\"]:\n",
    "                header_dict[key] = value\n",
    "            elif key in rda_types[\"integers\"]:\n",
    "                header_dict[key] = int(value)\n",
    "            elif key in rda_types[\"floats\"]:\n",
    "                header_dict[key] = float(value)\n",
    "            elif \"[\" in key and \"]\" in key:\n",
    "                # could be a dict or a list\n",
    "                key, index = re.split(\"\\]|\\[\", key)[0:2]\n",
    "                if key in rda_types[\"dictionaries\"]:\n",
    "                    if key not in header_dict:\n",
    "                        header_dict[key] = {}\n",
    "                    header_dict[key][index] = value\n",
    "                else:\n",
    "                    # not a dictionary, must be a list\n",
    "                    if key in rda_types[\"float_arrays\"]:\n",
    "                        value = float(value)\n",
    "                    elif key in rda_types[\"integer_arrays\"]:\n",
    "                        value = int(value)\n",
    "                    index = int(index)\n",
    "                    # make sure there is a list in the header_dict, with enough entries\n",
    "                    if not key in header_dict:\n",
    "                        header_dict[key] = []\n",
    "                    while len(header_dict[key]) <= index:\n",
    "                        header_dict[key].append(0)\n",
    "                    header_dict[key][index] = value\n",
    "        except:\n",
    "            header_dict[key] = value\n",
    "        # now we can read the data\n",
    "        complex_data = []\n",
    "\n",
    "\n",
    "    # some .rda files have a misnamed field, correct this here\n",
    "    if \"VOIReadoutFOV\" not in header_dict:\n",
    "        if \"VOIReadoutVOV\" in header_dict:\n",
    "            header_dict[\"VOIReadoutFOV\"] = header_dict.pop(\"VOIReadoutVOV\")\n",
    "\n",
    "    # combine positional elements in the header\n",
    "    voi_size = (header_dict[\"VOIReadoutFOV\"],\n",
    "                header_dict[\"VOIPhaseFOV\"],\n",
    "                header_dict[\"VOIThickness\"])\n",
    "    voi_center = (header_dict[\"VOIPositionSag\"],\n",
    "                  header_dict[\"VOIPositionCor\"],\n",
    "                  header_dict[\"VOIPositionTra\"])\n",
    "    voxel_size = (header_dict[\"PixelSpacingCol\"],\n",
    "                  header_dict[\"PixelSpacingRow\"],\n",
    "                  header_dict[\"PixelSpacing3D\"])\n",
    "\n",
    "    x_vector = numpy.array(header_dict[\"RowVector\"])\n",
    "    y_vector = numpy.array(header_dict[\"ColumnVector\"])\n",
    "\n",
    "    to_scanner = transformation_matrix(x_vector, y_vector, numpy.array(voi_center), voxel_size)\n",
    "\n",
    "    # put useful components from the header in the metadata\n",
    "    metadata = {\n",
    "        \"voi_size\": voi_size,\n",
    "        \"position\": voi_center,\n",
    "        \"voxel_size\": voxel_size,\n",
    "        \"protocol\": header_dict[\"ProtocolName\"],\n",
    "        \"to_scanner\": to_scanner,\n",
    "        \"from_scanner\": numpy.linalg.inv(to_scanner)\n",
    "    }\n",
    "\n",
    "    return MRSData(complex_data,\n",
    "                   header_dict[\"DwellTime\"] * 1e-6,\n",
    "                   header_dict[\"MRFrequency\"],\n",
    "                   te=header_dict[\"TE\"],\n",
    "                   transform=to_scanner,\n",
    "                   metadata=metadata)\n"
   ]
  },
  {
   "cell_type": "code",
   "execution_count": 7,
   "metadata": {},
   "outputs": [],
   "source": [
    "csv_path = '/media/drive_s/AG/AG-Floeel-Imaging/02-User/NEUROMET2/MRS_Voxel_masks/rda_headers_NM2_2.csv'"
   ]
  },
  {
   "cell_type": "code",
   "execution_count": 8,
   "metadata": {},
   "outputs": [],
   "source": [
    "import pandas as pd\n",
    "\n",
    "df = pd.read_csv(csv_path, sep=',', header=0).drop(columns='Unnamed: 0')\n"
   ]
  },
  {
   "cell_type": "code",
   "execution_count": 9,
   "metadata": {},
   "outputs": [],
   "source": [
    "jsn = json.loads(df.to_json(orient=\"records\"))"
   ]
  },
  {
   "cell_type": "markdown",
   "metadata": {},
   "source": [
    "# 2 Make a Nifty with the MRS Voxel as 10mm radius sphere"
   ]
  },
  {
   "cell_type": "code",
   "execution_count": 10,
   "metadata": {},
   "outputs": [],
   "source": [
    "# Credits NLTools: https://github.com/cosanlab/nltools\n",
    "def sphere(nii_path, r, p):\n",
    "    \"\"\" create a sphere of given radius at some point p in the brain mask\n",
    "    Args:\n",
    "        r: radius of the sphere\n",
    "        p: point (in coordinates of the brain mask) of the center of the sphere\n",
    "    \"\"\"\n",
    "    nii = nib.load(nii_path)\n",
    "    dims = nii.shape\n",
    "\n",
    "    x, y, z = np.ogrid[-p[0]:dims[0]-p[0], -p[1]:dims[1]-p[1], -p[2]:dims[2]-p[2]]\n",
    "    mask = x*x + y*y + z*z <= r*r\n",
    "\n",
    "    activation = np.zeros(dims)\n",
    "    #print(activation.sum())\n",
    "    activation[mask] = 1\n",
    "    #print(activation.sum())\n",
    "    #activation = np.multiply(activation, nii.get_fdata())\n",
    "    activation = activation + nii.get_fdata()\n",
    "    #print(activation.sum())\n",
    "    activation = nib.Nifti1Image(activation, nii.affine, nii.header)\n",
    "\n",
    "    # return the 3D numpy matrix of zeros containing the sphere as a region of ones\n",
    "    return activation"
   ]
  },
  {
   "cell_type": "code",
   "execution_count": 11,
   "metadata": {},
   "outputs": [],
   "source": [
    "# Sphere radius in mm\n",
    "sphere_radius = 10"
   ]
  },
  {
   "cell_type": "code",
   "execution_count": 12,
   "metadata": {},
   "outputs": [],
   "source": [
    "# Mask for T1w filename\n",
    "t1_file_mask = '/media/drive_s/AG/AG-Floeel-Imaging/02-User/NEUROMET2/Structural_analysis_fs7/{sub_id}/{sub_id}.mUNIbrain_DENskull_SPMmasked.nii.gz'"
   ]
  },
  {
   "cell_type": "code",
   "execution_count": 13,
   "metadata": {},
   "outputs": [],
   "source": [
    "# target directories\n",
    "subject_space_sphere_path = '/media/drive_s/AG/AG-Floeel-Imaging/02-User/NEUROMET2/MRS_Voxel_masks/Subjekt_space_spheres'\n",
    "subject_space_voxel_path = '/media/drive_s/AG/AG-Floeel-Imaging/02-User/NEUROMET2/MRS_Voxel_masks/Subject_space_Voxels'"
   ]
  },
  {
   "cell_type": "code",
   "execution_count": 14,
   "metadata": {},
   "outputs": [],
   "source": [
    "# create target directories if don't exist\n",
    "for d in [subject_space_sphere_path, subject_space_voxel_path]:\n",
    "    if not os.path.isdir(d):\n",
    "        os.mkdir(d)"
   ]
  },
  {
   "cell_type": "code",
   "execution_count": null,
   "metadata": {},
   "outputs": [],
   "source": []
  },
  {
   "cell_type": "code",
   "execution_count": 17,
   "metadata": {},
   "outputs": [
    {
     "name": "stdout",
     "output_type": "stream",
     "text": [
      "{'NeuroMET2-108-T1', 'NeuroMET2-106-T1', 'NeuroMET2-107-T1'}\n"
     ]
    }
   ],
   "source": [
    "ids = set([i for i in df['PatientID'] if '106' in i or '107' in i or '108' in i])\n",
    "print(ids)"
   ]
  },
  {
   "cell_type": "code",
   "execution_count": 18,
   "metadata": {},
   "outputs": [
    {
     "name": "stdout",
     "output_type": "stream",
     "text": [
      "NeuroMET2_106_T1\n",
      "done\n",
      "NeuroMET2_107_T1\n",
      "done\n",
      "NeuroMET2_108_T1\n",
      "done\n"
     ]
    }
   ],
   "source": [
    "for j in range(len(df)):\n",
    "    try:\n",
    "        i=json.loads(df.iloc[j].to_json())\n",
    "        if i['PatientID'] in ids:     \n",
    "            #print(n)\n",
    "            sub_id = i['PatientID'].replace('-','_')\n",
    "            print(sub_id)\n",
    "            t1_path = t1_file_mask.format(sub_id=sub_id)\n",
    "            #print(t1_path)\n",
    "            rda = load_rda(i)\n",
    "            base_name = t1_path.split('/')[-1][:-7] \n",
    "            #print(base_name)\n",
    "            # get voxel coordinates for the center of mrs voxel\n",
    "            t1 = suspect.image.load_nifti(t1_path)\n",
    "            mrs_centre = rda.to_scanner(0, 0, 0)\n",
    "            #print(mrs_centre)\n",
    "            mrs_centre_index = t1.from_scanner(*mrs_centre).round().astype(int)\n",
    "            #print(mrs_centre_index)\n",
    "            # zero all voxels and put 1 for mrs voxel center\n",
    "            img = nib.load(t1_path)\n",
    "            new_data = img.get_fdata().copy()\n",
    "            new_data[:,:,:] = 0\n",
    "            new_data[mrs_centre_index[0],mrs_centre_index[1],mrs_centre_index[2]] = 1\n",
    "            #create and save nifti\n",
    "            new_img = nib.Nifti1Image(new_data, img.affine, img.header)\n",
    "            nib.save(new_img, os.path.join(subject_space_voxel_path, base_name + '_mrs_voxel_center.nii.gz'))\n",
    "            #make a sphere and save it\n",
    "            sssphere = sphere(os.path.join(subject_space_voxel_path, base_name + '_mrs_voxel_center.nii.gz'),\n",
    "                         r=sphere_radius,\n",
    "                         p=mrs_centre_index)\n",
    "            nib.save(sssphere, os.path.join(subject_space_sphere_path, base_name + '_mrs_voxel_sphere.nii.gz'))\n",
    "            ids.remove(i['PatientID'])\n",
    "            print('done')\n",
    "    except:\n",
    "        print('problem')"
   ]
  },
  {
   "cell_type": "code",
   "execution_count": 19,
   "metadata": {},
   "outputs": [],
   "source": [
    "# Coregister in MNI space"
   ]
  },
  {
   "cell_type": "code",
   "execution_count": 20,
   "metadata": {},
   "outputs": [],
   "source": [
    "import ants\n",
    "import os"
   ]
  },
  {
   "cell_type": "code",
   "execution_count": 32,
   "metadata": {},
   "outputs": [],
   "source": [
    "# ANTs fixed image\n",
    "mni_std = '/usr/share/fsl/data/standard/MNI152_T1_0.5mm.nii.gz'\n",
    "ants_mni_std = ants.image_read(mni_std)"
   ]
  },
  {
   "cell_type": "code",
   "execution_count": 33,
   "metadata": {},
   "outputs": [],
   "source": [
    "# ANTs moving image\n",
    "mov_mask = str(os.path.join(subject_space_sphere_path, '{sub_id}.mUNIbrain_DENskull_SPMmasked_mrs_voxel_sphere.nii.gz'))"
   ]
  },
  {
   "cell_type": "code",
   "execution_count": 40,
   "metadata": {},
   "outputs": [],
   "source": [
    "# mask for ANTs transform filenames\n",
    "transform1_mask = '/media/drive_s/AG/AG-Floeel-Imaging/02-User/NEUROMET2/MNI_coreg/{sub_id}/{sub_id}_MNIcoreg0GenericAffine.mat'\n",
    "transform2_mask = '/media/drive_s/AG/AG-Floeel-Imaging/02-User/NEUROMET2/MNI_coreg/{sub_id}/{sub_id}_MNIcoreg1Warp.nii.gz'"
   ]
  },
  {
   "cell_type": "code",
   "execution_count": 41,
   "metadata": {},
   "outputs": [],
   "source": [
    "mni_sp_path='/media/drive_s/AG/AG-Floeel-Imaging/02-User/NEUROMET2/MRS_Voxel_masks/MNI_space_spheres'\n",
    "#Create directory for MNI152 coregistered masks if it doesn't exists\n",
    "if not os.path.isdir(mni_sp_path):\n",
    "    os.mkdir(mni_sp_path)"
   ]
  },
  {
   "cell_type": "code",
   "execution_count": 42,
   "metadata": {},
   "outputs": [],
   "source": [
    "dest_path_mask = os.path.join(mni_sp_path,'{}_MRS_Voxel_MNIwarped.nii.gz')"
   ]
  },
  {
   "cell_type": "code",
   "execution_count": 43,
   "metadata": {},
   "outputs": [
    {
     "name": "stdout",
     "output_type": "stream",
     "text": [
      "{'NeuroMET2-108-T1', 'NeuroMET2-106-T1', 'NeuroMET2-107-T1'}\n"
     ]
    }
   ],
   "source": [
    "ids = set([i for i in df['PatientID'] if '106' in i or '107' in i or '108' in i])\n",
    "print(ids)"
   ]
  },
  {
   "cell_type": "code",
   "execution_count": 44,
   "metadata": {},
   "outputs": [
    {
     "name": "stdout",
     "output_type": "stream",
     "text": [
      "NeuroMET2_108_T1\n",
      "Done\n",
      "NeuroMET2_106_T1\n",
      "Done\n",
      "NeuroMET2_107_T1\n",
      "Done\n"
     ]
    }
   ],
   "source": [
    "for sub_id in ids:\n",
    "    #try:\n",
    "    sub_id=sub_id.replace('-','_')\n",
    "    print(sub_id)\n",
    "    transform1 = transform1_mask.format(sub_id=sub_id)\n",
    "    transform2 = transform2_mask.format(sub_id=sub_id)\n",
    "    moving = mov_mask.format(sub_id=sub_id)\n",
    "    ants_mov = ants.image_read(moving)\n",
    "    res = ants.apply_transforms(fixed=ants_mni_std,\n",
    "                     moving=ants_mov,\n",
    "                     transformlist = [transform2, transform1])\n",
    "    ants.image_write(res, dest_path_mask.format(sub_id))\n",
    "    print('Done')\n",
    "    #except:\n",
    "    #    pass"
   ]
  },
  {
   "cell_type": "code",
   "execution_count": null,
   "metadata": {},
   "outputs": [],
   "source": []
  },
  {
   "cell_type": "code",
   "execution_count": null,
   "metadata": {},
   "outputs": [],
   "source": []
  }
 ],
 "metadata": {
  "kernelspec": {
   "display_name": "Python 3",
   "language": "python",
   "name": "python3"
  },
  "language_info": {
   "codemirror_mode": {
    "name": "ipython",
    "version": 3
   },
   "file_extension": ".py",
   "mimetype": "text/x-python",
   "name": "python",
   "nbconvert_exporter": "python",
   "pygments_lexer": "ipython3",
   "version": "3.6.5"
  }
 },
 "nbformat": 4,
 "nbformat_minor": 4
}
