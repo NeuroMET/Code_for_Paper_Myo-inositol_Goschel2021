{
 "cells": [
  {
   "cell_type": "markdown",
   "metadata": {},
   "source": [
    "# mIns MRS_Voxel-to-Voxel\n",
    "\n",
    "## Make a mask\n",
    "===============\n",
    "\n",
    "The Seed-to-Voxel connectivities from healty controls are averaged and thresholded to 0.2 (corresponding approssimately to p = 0.01), giving the ROI\n",
    "\n",
    "## Extract connectivities\n",
    "=========================\n",
    "\n",
    "After applyng the mask to every connectivity mask (CONN's files with BETA prefix), the connectivities of every grey matter voxel are summed giving the connectivity value for the individual subject.\n",
    "\n",
    "Ref: ToDo\n",
    "\n",
    "\n",
    "Prefixes:\n",
    "=========\n",
    "-) BETA_ nii the BETA files contain the Fisher transformed coefficients ( z=atanh(r) ). When the Analyses.measure is set to 3 (regression) or 4 (multivariate regression), then the BETA files contain the regression coefficients (beta values) and the corr files should be disregarded (they actually contain tanh(beta) but these are not particularly meaningful measures). \n",
    "\n",
    "-) corr_ nii When the Analyses.measure field is set to 1 (bivariate correlation) or 2 (semi-partial correlation) the corr fles contain the correlation coefficients (r) (or semi-partial correlation coefficients when Analyses.measure is set to 2)..... corr_* files are only generated if you select the corresponding option in the Setup->Options tab ('Create first-level seed-to-voxel r-maps').\n",
    "\n",
    "-) p_corr nii the p_corr and pFDR images simply contain the uncorrected and FDR-corrected p-values, respectively\n",
    "\n",
    "-) pFDR nii the p_corr and pFDR images simply contain the uncorrected and FDR-corrected p-values, respectively\n",
    "\n",
    "-) resultsROI mat\n",
    "\n",
    "-) se nii\n",
    "-) "
   ]
  },
  {
   "cell_type": "markdown",
   "metadata": {},
   "source": [
    "## Sources"
   ]
  },
  {
   "cell_type": "code",
   "execution_count": 41,
   "metadata": {},
   "outputs": [
    {
     "name": "stderr",
     "output_type": "stream",
     "text": [
      "/opt/anaconda3/lib/python3.6/site-packages/h5py/__init__.py:36: FutureWarning: Conversion of the second argument of issubdtype from `float` to `np.floating` is deprecated. In future, it will be treated as `np.float64 == np.dtype(float).type`.\n",
      "  from ._conv import register_converters as _register_converters\n"
     ]
    }
   ],
   "source": [
    "import glob\n",
    "import nibabel as nib\n",
    "import pandas as pd\n",
    "import seaborn as sns\n",
    "import nilearn\n",
    "from nilearn import plotting\n",
    "from nilearn import image\n",
    "import numpy as np\n",
    "from scipy.io import loadmat\n",
    "from scipy import stats"
   ]
  },
  {
   "cell_type": "code",
   "execution_count": 42,
   "metadata": {},
   "outputs": [],
   "source": [
    "mat = loadmat('/media/2Tb/functional_analysis_jan2021/NeuroMet_fmriprep_conn/results/firstlevel/MRS_Voxel_to_Voxel/_list_sources.mat')"
   ]
  },
  {
   "cell_type": "code",
   "execution_count": 43,
   "metadata": {},
   "outputs": [
    {
     "data": {
      "text/plain": [
       "array([[array(['MRS_Voxel'], dtype='<U9')]], dtype=object)"
      ]
     },
     "execution_count": 43,
     "metadata": {},
     "output_type": "execute_result"
    }
   ],
   "source": [
    "mat['sourcenames']"
   ]
  },
  {
   "cell_type": "code",
   "execution_count": 44,
   "metadata": {},
   "outputs": [],
   "source": [
    "# MRS Voxel is source 6"
   ]
  },
  {
   "cell_type": "code",
   "execution_count": null,
   "metadata": {},
   "outputs": [],
   "source": []
  },
  {
   "cell_type": "code",
<<<<<<< HEAD
   "execution_count": 5,
=======
   "execution_count": 45,
>>>>>>> 297324d983e46b5654c83da0b3b5456fe991b168
   "metadata": {},
   "outputs": [
    {
     "data": {
      "text/plain": [
       "95"
      ]
     },
<<<<<<< HEAD
     "execution_count": 5,
=======
     "execution_count": 45,
>>>>>>> 297324d983e46b5654c83da0b3b5456fe991b168
     "metadata": {},
     "output_type": "execute_result"
    }
   ],
   "source": [
    "# Grab all MRS-Voxel-to-whole-Brain connectivity maps niftis\n",
    "s1_beta_path = glob.glob('/media/2Tb/functional_analysis_jan2021/NeuroMet_fmriprep_conn/results/firstlevel/MRS_Voxel_to_Voxel/BETA_Subject*_Condition001_Source001.nii')\n",
    "len(s1_beta_path)"
   ]
  },
  {
   "cell_type": "code",
<<<<<<< HEAD
   "execution_count": 6,
=======
   "execution_count": 46,
>>>>>>> 297324d983e46b5654c83da0b3b5456fe991b168
   "metadata": {},
   "outputs": [],
   "source": [
    "subnumber = len(s1_beta_path)"
   ]
  },
  {
   "cell_type": "code",
<<<<<<< HEAD
   "execution_count": 7,
=======
   "execution_count": 47,
>>>>>>> 297324d983e46b5654c83da0b3b5456fe991b168
   "metadata": {},
   "outputs": [],
   "source": [
    "# sort them\n",
    "s1_beta_path = sorted(s1_beta_path, key=(lambda x: x.split('_')[-3][-3:]))"
   ]
  },
  {
   "cell_type": "code",
<<<<<<< HEAD
   "execution_count": 8,
=======
   "execution_count": 48,
>>>>>>> 297324d983e46b5654c83da0b3b5456fe991b168
   "metadata": {},
   "outputs": [],
   "source": [
    "# Load Subjects' data"
   ]
  },
  {
   "cell_type": "code",
<<<<<<< HEAD
   "execution_count": 95,
=======
   "execution_count": 49,
>>>>>>> 297324d983e46b5654c83da0b3b5456fe991b168
   "metadata": {},
   "outputs": [],
   "source": [
    "cov_path = '/media/drive_s/AG/AG-Floeel-Imaging/02-User/NEUROMET/Functional_analysis/mIns_fMRI/conn_covs_20200115.csv'\n",
    "data = pd.read_csv(cov_path)"
   ]
  },
  {
   "cell_type": "code",
<<<<<<< HEAD
   "execution_count": 96,
=======
   "execution_count": 50,
>>>>>>> 297324d983e46b5654c83da0b3b5456fe991b168
   "metadata": {},
   "outputs": [],
   "source": [
    "data['BETA_path'] = s1_beta_path"
   ]
  },
  {
   "cell_type": "code",
<<<<<<< HEAD
   "execution_count": 97,
=======
   "execution_count": 51,
>>>>>>> 297324d983e46b5654c83da0b3b5456fe991b168
   "metadata": {},
   "outputs": [
    {
     "data": {
      "text/html": [
       "<div>\n",
       "<style scoped>\n",
       "    .dataframe tbody tr th:only-of-type {\n",
       "        vertical-align: middle;\n",
       "    }\n",
       "\n",
       "    .dataframe tbody tr th {\n",
       "        vertical-align: top;\n",
       "    }\n",
       "\n",
       "    .dataframe thead th {\n",
       "        text-align: right;\n",
       "    }\n",
       "</style>\n",
       "<table border=\"1\" class=\"dataframe\">\n",
       "  <thead>\n",
       "    <tr style=\"text-align: right;\">\n",
       "      <th></th>\n",
       "      <th>CONN_ID</th>\n",
       "      <th>ID</th>\n",
       "      <th>diag</th>\n",
<<<<<<< HEAD
       "      <th>QC</th>\n",
=======
>>>>>>> 297324d983e46b5654c83da0b3b5456fe991b168
       "      <th>BETA_path</th>\n",
       "    </tr>\n",
       "  </thead>\n",
       "  <tbody>\n",
       "    <tr>\n",
       "      <th>0</th>\n",
       "      <td>1</td>\n",
       "      <td>sub-NeuroMET003</td>\n",
       "      <td>2.0</td>\n",
<<<<<<< HEAD
       "      <td>G</td>\n",
=======
>>>>>>> 297324d983e46b5654c83da0b3b5456fe991b168
       "      <td>/media/2Tb/functional_analysis_jan2021/NeuroMe...</td>\n",
       "    </tr>\n",
       "    <tr>\n",
       "      <th>1</th>\n",
       "      <td>2</td>\n",
       "      <td>sub-NeuroMET004</td>\n",
       "      <td>0.0</td>\n",
<<<<<<< HEAD
       "      <td>G</td>\n",
=======
>>>>>>> 297324d983e46b5654c83da0b3b5456fe991b168
       "      <td>/media/2Tb/functional_analysis_jan2021/NeuroMe...</td>\n",
       "    </tr>\n",
       "    <tr>\n",
       "      <th>2</th>\n",
       "      <td>3</td>\n",
       "      <td>sub-NeuroMET006</td>\n",
       "      <td>0.0</td>\n",
<<<<<<< HEAD
       "      <td>G</td>\n",
=======
>>>>>>> 297324d983e46b5654c83da0b3b5456fe991b168
       "      <td>/media/2Tb/functional_analysis_jan2021/NeuroMe...</td>\n",
       "    </tr>\n",
       "    <tr>\n",
       "      <th>3</th>\n",
       "      <td>4</td>\n",
       "      <td>sub-NeuroMET007</td>\n",
       "      <td>1.0</td>\n",
<<<<<<< HEAD
       "      <td>G</td>\n",
=======
>>>>>>> 297324d983e46b5654c83da0b3b5456fe991b168
       "      <td>/media/2Tb/functional_analysis_jan2021/NeuroMe...</td>\n",
       "    </tr>\n",
       "    <tr>\n",
       "      <th>4</th>\n",
       "      <td>5</td>\n",
       "      <td>sub-NeuroMET008</td>\n",
       "      <td>0.0</td>\n",
<<<<<<< HEAD
       "      <td>G</td>\n",
=======
>>>>>>> 297324d983e46b5654c83da0b3b5456fe991b168
       "      <td>/media/2Tb/functional_analysis_jan2021/NeuroMe...</td>\n",
       "    </tr>\n",
       "  </tbody>\n",
       "</table>\n",
       "</div>"
      ],
      "text/plain": [
<<<<<<< HEAD
       "   CONN_ID               ID  diag QC  \\\n",
       "0        1  sub-NeuroMET003   2.0  G   \n",
       "1        2  sub-NeuroMET004   0.0  G   \n",
       "2        3  sub-NeuroMET006   0.0  G   \n",
       "3        4  sub-NeuroMET007   1.0  G   \n",
       "4        5  sub-NeuroMET008   0.0  G   \n",
=======
       "   CONN_ID               ID  diag  \\\n",
       "0        1  sub-NeuroMET003   2.0   \n",
       "1        2  sub-NeuroMET004   0.0   \n",
       "2        3  sub-NeuroMET006   0.0   \n",
       "3        4  sub-NeuroMET007   1.0   \n",
       "4        5  sub-NeuroMET008   0.0   \n",
>>>>>>> 297324d983e46b5654c83da0b3b5456fe991b168
       "\n",
       "                                           BETA_path  \n",
       "0  /media/2Tb/functional_analysis_jan2021/NeuroMe...  \n",
       "1  /media/2Tb/functional_analysis_jan2021/NeuroMe...  \n",
       "2  /media/2Tb/functional_analysis_jan2021/NeuroMe...  \n",
       "3  /media/2Tb/functional_analysis_jan2021/NeuroMe...  \n",
       "4  /media/2Tb/functional_analysis_jan2021/NeuroMe...  "
      ]
     },
<<<<<<< HEAD
     "execution_count": 97,
=======
     "execution_count": 51,
>>>>>>> 297324d983e46b5654c83da0b3b5456fe991b168
     "metadata": {},
     "output_type": "execute_result"
    }
   ],
   "source": [
    "data.head()"
   ]
  },
  {
   "cell_type": "code",
<<<<<<< HEAD
   "execution_count": 98,
   "metadata": {},
   "outputs": [
    {
     "data": {
      "text/plain": [
       "95"
      ]
     },
     "execution_count": 98,
     "metadata": {},
     "output_type": "execute_result"
    }
   ],
   "source": [
    "len(data)"
   ]
  },
  {
   "cell_type": "code",
   "execution_count": 99,
   "metadata": {},
   "outputs": [],
   "source": [
    "data_qc = data[(data.QC == 'G') | (data.QC == 'Y')]"
   ]
  },
  {
   "cell_type": "code",
   "execution_count": 100,
   "metadata": {},
   "outputs": [
    {
     "name": "stderr",
     "output_type": "stream",
     "text": [
      "/opt/anaconda3/lib/python3.6/site-packages/ipykernel_launcher.py:1: SettingWithCopyWarning: \n",
      "A value is trying to be set on a copy of a slice from a DataFrame.\n",
      "Try using .loc[row_indexer,col_indexer] = value instead\n",
      "\n",
      "See the caveats in the documentation: http://pandas.pydata.org/pandas-docs/stable/indexing.html#indexing-view-versus-copy\n",
      "  \"\"\"Entry point for launching an IPython kernel.\n"
     ]
    }
   ],
   "source": [
    "data_qc['index'] = data_qc.index"
   ]
  },
  {
   "cell_type": "code",
   "execution_count": 101,
=======
   "execution_count": 52,
>>>>>>> 297324d983e46b5654c83da0b3b5456fe991b168
   "metadata": {},
   "outputs": [],
   "source": [
    "#data = data.drop([6,29,61,64,72]) # there was for those subs something weird in the denoising"
   ]
  },
  {
   "cell_type": "code",
<<<<<<< HEAD
   "execution_count": 102,
   "metadata": {},
   "outputs": [],
   "source": [
    "hc_pos = data_qc[(data_qc.diag == 0)]['index'].values"
=======
   "execution_count": 53,
   "metadata": {},
   "outputs": [],
   "source": [
    "data['index'] = data.index"
>>>>>>> 297324d983e46b5654c83da0b3b5456fe991b168
   ]
  },
  {
   "cell_type": "code",
<<<<<<< HEAD
   "execution_count": 103,
   "metadata": {},
   "outputs": [
    {
     "data": {
      "text/plain": [
       "86"
      ]
     },
     "execution_count": 103,
     "metadata": {},
     "output_type": "execute_result"
    }
   ],
   "source": [
    "len(data_qc)"
=======
   "execution_count": 54,
   "metadata": {},
   "outputs": [],
   "source": [
    "# the diag2 == 1 are the healty controls, we have to take the subject numbers for them"
>>>>>>> 297324d983e46b5654c83da0b3b5456fe991b168
   ]
  },
  {
   "cell_type": "code",
<<<<<<< HEAD
   "execution_count": 104,
   "metadata": {},
   "outputs": [
    {
     "data": {
      "text/plain": [
       "'/media/2Tb/functional_analysis_jan2021/NeuroMet_fmriprep_conn/results/firstlevel/MRS_Voxel_to_Voxel/BETA_Subject001_Condition001_Source001.nii'"
      ]
     },
     "execution_count": 104,
     "metadata": {},
     "output_type": "execute_result"
    }
   ],
   "source": [
    "data_qc.BETA_path[0]"
=======
   "execution_count": 55,
   "metadata": {},
   "outputs": [],
   "source": [
    "hc_pos = data[(data.diag == 0)]['index'].values"
>>>>>>> 297324d983e46b5654c83da0b3b5456fe991b168
   ]
  },
  {
   "cell_type": "code",
<<<<<<< HEAD
   "execution_count": 105,
=======
   "execution_count": null,
   "metadata": {},
   "outputs": [],
   "source": []
  },
  {
   "cell_type": "code",
   "execution_count": 56,
>>>>>>> 297324d983e46b5654c83da0b3b5456fe991b168
   "metadata": {},
   "outputs": [
    {
     "name": "stdout",
     "output_type": "stream",
     "text": [
<<<<<<< HEAD
      "CPU times: user 3.87 s, sys: 395 ms, total: 4.27 s\n",
      "Wall time: 801 ms\n"
=======
      "CPU times: user 997 ms, sys: 26.4 ms, total: 1.02 s\n",
      "Wall time: 244 ms\n"
>>>>>>> 297324d983e46b5654c83da0b3b5456fe991b168
     ]
    }
   ],
   "source": [
    "%%time\n",
    "# Summing the HC connectivity masks\n",
    "avg_mask = nib.load(data_qc.BETA_path[list(hc_pos)[0]]).get_fdata()\n",
    "\n",
    "for subnum in list(hc_pos)[1:]: \n",
    "    conn_map = nib.load(data_qc.BETA_path[subnum]).get_fdata() # Load connectivities as numpy array\n",
    "    avg_mask += conn_map"
   ]
  },
  {
   "cell_type": "code",
<<<<<<< HEAD
   "execution_count": 106,
=======
   "execution_count": 57,
>>>>>>> 297324d983e46b5654c83da0b3b5456fe991b168
   "metadata": {},
   "outputs": [
    {
     "data": {
      "text/plain": [
<<<<<<< HEAD
       "(193, 229, 193)"
      ]
     },
     "execution_count": 106,
=======
       "(91, 109, 91)"
      ]
     },
     "execution_count": 57,
>>>>>>> 297324d983e46b5654c83da0b3b5456fe991b168
     "metadata": {},
     "output_type": "execute_result"
    }
   ],
   "source": [
    "avg_mask.shape"
   ]
  },
  {
   "cell_type": "code",
<<<<<<< HEAD
   "execution_count": 107,
=======
   "execution_count": 58,
>>>>>>> 297324d983e46b5654c83da0b3b5456fe991b168
   "metadata": {},
   "outputs": [],
   "source": [
    "# average\n",
    "avg_mask = avg_mask / len(hc_pos)"
   ]
  },
  {
   "cell_type": "code",
<<<<<<< HEAD
   "execution_count": 108,
=======
   "execution_count": 59,
>>>>>>> 297324d983e46b5654c83da0b3b5456fe991b168
   "metadata": {},
   "outputs": [],
   "source": [
    "# thresholding\n",
    "threshold = 0.3 # corresponding p<0.01 for our sample size\n",
    "avg_mask = np.where(avg_mask>threshold,1,0)"
   ]
  },
  {
   "cell_type": "code",
<<<<<<< HEAD
   "execution_count": null,
   "metadata": {},
   "outputs": [],
   "source": []
  },
  {
   "cell_type": "code",
   "execution_count": 109,
=======
   "execution_count": 60,
>>>>>>> 297324d983e46b5654c83da0b3b5456fe991b168
   "metadata": {},
   "outputs": [],
   "source": [
    "# Making nii\n",
    "example_img = nib.load(s1_beta_path[list(hc_pos)[0]])\n",
    "mask_nii = nib.Nifti1Image(avg_mask, example_img.affine, header=example_img.header)"
   ]
  },
  {
   "cell_type": "code",
<<<<<<< HEAD
   "execution_count": 110,
=======
   "execution_count": 61,
>>>>>>> 297324d983e46b5654c83da0b3b5456fe991b168
   "metadata": {
    "scrolled": true
   },
   "outputs": [
    {
     "data": {
      "text/plain": [
<<<<<<< HEAD
       "<nilearn.plotting.displays.OrthoSlicer at 0x7f5fb958fcc0>"
      ]
     },
     "execution_count": 110,
=======
       "<nilearn.plotting.displays.OrthoSlicer at 0x7faea2334b00>"
      ]
     },
     "execution_count": 61,
>>>>>>> 297324d983e46b5654c83da0b3b5456fe991b168
     "metadata": {},
     "output_type": "execute_result"
    },
    {
     "data": {
<<<<<<< HEAD
      "image/png": "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\n",
=======
      "image/png": "iVBORw0KGgoAAAANSUhEUgAAAg0AAADeCAYAAAC+LTM8AAAABHNCSVQICAgIfAhkiAAAAAlwSFlzAAALEgAACxIB0t1+/AAAADl0RVh0U29mdHdhcmUAbWF0cGxvdGxpYiB2ZXJzaW9uIDIuMi4yLCBodHRwOi8vbWF0cGxvdGxpYi5vcmcvhp/UCwAAIABJREFUeJztnXm4XWV59u+TIKKklmAYzcQoglYsrUOLCpQK4pSCGghDCBAIfIgQEbik/YotSIs1hKGYYAiIKWPQABZQUaFqtf0cQMGBQaYwBCFBiMiQ5Hx/HO6z1vrt9Zy1T3KSs8/J87uuXDt777XX+K51nud+n6Gru7u7W0mSJEmSJA2MGOwdSJIkSZJkaJBGQ5IkSZIkbZFGQ5IkSZIkbZFGQ5IkSZIkbZFGQ5IkSZIkbZFGQ5IkSZIkbZFGQ5IkSZIkbZFGQ5IkSZIkbZFGQ5IkSZIkbZFGQ5IkSZIkbZFGQ5IkSZIkbZFGQ5IkSZIkbZFGQ5IkSZIkbZFGQ5IkSZIkbZFGQ5IkSZIkbZFGQ5IkSZIkbZFGQ5IkSZIkbZFGQ5IkSZIkbZFGQ5IkSZIkbZFGQ5IkSZIkbbHBYO9AkiRJkpCLL75YkvQnf/InkqSNNtpIkrRixQpJ0u9///vK8l/96lclSfvvv3/vZ1529OjRlXWNHDlSkrRq1SpJ0gsvvCBJevbZZyvrPuGEEwbseIYLaTQkSZIkQ54HH3xwsHdhvSCNhiRJkvWEiRMnat68edp7770He1d00UUXSZJe/epXSypUAasAm2++uaRCJXjta19b+f2yZcskSY888kjl9y+99FLvMl7HlltuWVkHlYaXX365sq2nn35aknTllVdWvrcC8YlPfGJ1Dnm1mDhxopYsWaKRI0dq1KhR2nfffXXhhRdq1KhR62wfymRMQ5IkSZJ0MDfeeKOWL1+uO+64Qz/72c909tlnD9q+pNKQJEmSrHUuueQSSdLrX/96SdJ2220nSVq5cqUk6bnnnpNUqABjxoyRJP3pn/6pJOk1r3mNpEId8HLPP/98ZTteTpI22WQTSYXC4JiGDTbo+dPnWIaurq7Kur1NqyD+3stfc801kqTHHntMknTiiSe2exrWiC233FL77LOP7rjjjnWyvTpSaUiSJEmSIcDixYt18803a/vttx+0fUilIUmSJFlr2Cu3suAsCHvvL774YmV5Kwgbb7yxJPXO3fvV3r5/5+W8vte97nW96/J3G264Ye22vS7HQzh2wcqEt2llwst5vV5u3rx5kqSjjjqq+YSsBpMmTVJXV5eWL1+uvfbaS5/97GfXynbaIZWGYcycOXM0Z86cwd6NJEmSZA1YtGiRnnvuOd1222369a9/raeeemrQ9iWVhiRJkmTAmDVrlqQiJmHcuHGSiniCESN6fFXHD9jr9+f26q0K2Nv3+z/+8Y+V3xuvx3EIkvSqV72q8up1e1vd3d2SCsXBr9xXKxVetz8nX/rSlyRJ06dPr/1+TXnve9+rww8/XCeffLIWLVq0VrbRRBoNa5kLL7xQUuvAtwRnOcyy12GHHbbG27zqqqskFWlG119/vaRCznPg0PLlyyVJxx9//BpvMxmeXHvttX1+/7GPfWwd7UkyULz88su9fxylnj+k/mOadD4nnniiJk6cqDvuuEO77rrrOt9+jpQkSZL1iP3226/y/vTTT9eZZ565xuu9/PLLJUnjx4+XVHj1dpDsnVsR8Pf23und+73jB1x/gTENVh6sGtThbXpfqEAYZ3IwxoFKg1/9vZ1C76udxbXhkG222WY67LDD9M///M+67rrrBnz9TaTRMEC45KlvBA8mp/+4aIhfmfKzdOlSSdKll14qSZo2bVq/9+FrX/uaJGns2LGVbVvGs7Lgoijmsssuk9QaHHTMMcf0ex+SzsKldT0e/eoHrF89Rvh59CD25w4AK+NxxFf/MZg6depqH0+yZmTVxKFH3TX74he/uO535BXSaEiSJElWG09/brvttpIK790GqrFSYG+fsQv20v25nR6/dx0HKwxWA9rBhqvxOpkF4XV73xl3QdWE6/exuxaFp4oduDgcpoLTaOgn5513nqSiPKkltIkTJ0oqBt0zzzxT+R1TeCx3UdZ6/PHHJRWFUI488sjewiGzZ8+urPPLX/6ypEK9sCzINCHeAFYcLLF52361F3nDDTdIKlSQww8/PDwvybqBY+Gmm26SVIw7v/oB7Qerr2n08PN7Kg+Wa/1KBaL8MOZvDJd1+WBum39M/L0fxJMnT+7r1CRJsg5Io2EIMJjVv5LOIsdC0ik4SHarrbaSVNRHsJFoI9AGrA1af8/pUxuHVh7s1Ph7vzIWwk4SjdDytmgMGztKrgDJ/hXeJ++rt1nub1HG++Lt+ff+fG3GOqwrhpXRsDabsSxYsECStOOOO0oqFAYPJntRlOQsqdHj82DyQPerb0AvP3/+fD3xxBPaYIMNdP311+sPf/hD77o94LfeemtJxU3Lm80D3PtmT9Dqh1OjPLB5LC7F6hSfJUuWSBqYmIdOa8bSqXz729+WVMiclj0p1fKhyAepH7gef1QYGAhmuF7/vk5pYBAZJV7DceZj4T3hfZw/f35l23498MADlSTJumFYGQ3J0OTGG2/U3nvvrSeeeEL77LOPzj77bJ111lmDvVtJktRg480Ojp0UKwScnjI2Hp3ybaOPwbZ0qPw7T+na2fF2WOWxroYCu1n6t16nHSN/7mBwTh8z84PxF8YZHd4Xf+8g9QsuuEDSuu2WOVCk0RAwd+5cScWNMWHCBEmt9RY8aDzY7C15OQ8eD0K/941G2cuDe7PNNpPUc4N1dXVpxYoVWrp0aeWGsMLgAV0uaiIVCoNvUqsU3lerJb4JWXKVNyXlwyuuuEKSNGXKFJ6+1aITmrF0Ct/5znckFa14fe3sxT/77LOSWmMOWCCH71nkxg9Byrh88DIugQ/Nun0g3Ac2CWJMBJULr9f3WKRAHHroobXbT5JkzUmjIekY3Ixlr732GuxdSZIEeIrWjpSdDjsRnKpl5UYbdTR0TZSZwBiJqLpjX0qDDU8bnHawGB9hxcFOnh0ow2Oxw+XPfcxWNFhR0usfysW0hu6eryV8Y7iLmANkIoXBA5rzt1QSomh03jgejPb6X/e612nkyJF66aWX9OKLL/bZjMUDlIFH9lJ9I3jfPeBZuIT77JvR++qb179zgZEnn3xSknTssceqP3RSM5bB5sYbb5RUxMKwoQ69b8bKmKjeAmMXIqUhGq9UGMoPP64rUjk8brg844H8OR+w0TnweHcpX28vs36SZOBIoyEZdBYtWqS9995bt99+u6ZMmaKnnnqq1yJPkmRwsSPltHI7FXYe7Gw0VVlkELidGxqHnLayMWkDmunEDNItv4+MX6+DTiDVEm+jHIAuFYYvj5Xf0yEzPuarr75a0tBKJ06j4RV88Xxj2KO3N855fd8wHLhROhADbzwoWfCEXvyoUaN6P+vq6urdj/K2WK7VcK7Y37NmhG8U3kBMkfLnDEjifPfqNm3phGYs65pvfvObkoq6HpY3fe75QDSUZCPlgEpW1CSIQWcel37l+OXvytuMsiTK47j8PqrrYKLxzUwPKg7+Y+NOr1Q6MvYhSfrPsDMashnL0Gawm7EkSdKDi3DttNNOkor5eGYr8PnKDAWmfEcOVqRQ+HnugG6mGXOKzt+Xt2lDMZqmiwqNuRAeYxw4Pe1XKhCMv/C+Mch8TdoHrGuG3V/T/jZjceVFKwybbrqppMKLjpquRC1WDSU540HiwcXIcAb7bLjhhhoxYoS6urq0wQYbVG4sepssZcryrF63lQWWUPUxMevC3i9jJZjL72Py+u3hzZgxQ+0y2M1Y1jbf//73JRVVNp0FwYdJVG+BD+qodwQVBX/OByzHc1Tbg8txveXfRvE6JIrD4IM8eqAzxsav3A+vl8fkvhm+Tw455JA+9zdJkmFmNGQzlqFHpzVjSZIkSWKGldHQhEt4SoX3wlanDGDhnDHTeejxcT6XMRAsaMKIcUNPsKurq/cfj8FEVSfZ74JZElQ9rDCwvoNf/Tk9OVb28/rcAfToo4+uPdbhzM9+9jNJRb0FV3S07Mmuk5zvJ4xFoAJGydbQC/d2qVIZjssoSK2sJrASpN9z25Eqwn3n+OaxUhrmvcj3UTBcufqqJB1xxBFKil42VCr5zKQ6xT4ofC4Yp2yyDDRVsaivCj+vi+OJxhjHKKdGovuFhaeo3jbF7XC6hKpwuedQp1JfhSVJkiRJkgSsF0rDH//4Ry1cuFBbbLFF72esjhj1Z4ii0aP51CgwhrERbHhCS5jeWB3cJ+471QqWey1nYkhFsI/Pjb1jv0YKg19ZU8CBU6514a6Zv/vd7yRJBx10UG88xXDDCoNjF6ww8ByaKEYminGgJ+NXelAR9Ob4OccOYyrqGgBRSWAcBNWT6Bg5vqLxxu0xjoPqiPE54rny+HX2j++Xww47TOsLvkeloogTW1Sz2JKvMwMVmSLp91YumL1FFatJaWBgpSlf7yh9k+tgSmQUu0ZljvFgfAZzu8zGY7yN35c7GruzbaewXigNCxcuHOxdSGq48sorB3sXkiRJkn4wrJUGR9+7R0N5jtTW7dNPPy2pmGN2pgBrINAz45xW5BXRE6SlGkV2l72g7u5udXd3a9WqVRXlIUo58rro8TFeg0VW7ClYWXDtAB+TPQTOn7O/xujRoyX19JIo/877U+5g+ZWvfEXS8MuZX7ZsmaRCYfC5iWIWIk+eylYU++BryfHD2IUmr59eG2tzRHVKyv9nrRGW7I0Uhii+gp5n5JGyHom3z3vUMD7E62Gq31BKh1tdLr/8cklFF1+ptZNv03n15xx7hs8hPxcY58XrSlUuiusx5eWjOBrGNjBmzduwIuCxEP0diNL6OZYZ40BF26qsex11IuuF0pAkSZIkyZozrJWGJEmSpBmrseUWz4x9olpKpYixU4SZBlFp5Siuht481VyWfpZa64xEmTd89boiVdbqKlXevmLQpNa4HSqAPjeuFyRJX/7ylyVJU6dO7XPd64phaTR89atflSS9/vWvl1SVw40Hjy++pyf8yiY7UTBWFMBGqZQyFdMULX/1NT2xcuXKStoSG1CxxG8kTTNtyMsxtdK/c0AjG1mxIJGDfNzWmxXkTF2BKsujQzno7Lvf/W7v/x3s6WsUTT80PWSicRM9UNnWnEGyfbW2llrlXJZe5ngvT2f4M6aRsVNgFATqe4X71NRCmw9uBuhxXyNZO2pC5z8UmZKZJMPUaEiSJEma+drXviZJGjt2rKSqgd8U99JU+8BQWYhiGaL103AmUa+T8r5E1UUZ00CDlQpAlH0RZTM1GaiGCkc5q6yc9dcJDCujwVkS9nStMHiQ1pW89XdOjXMQIIO4ooIwbDMdlbyltxMFEXIQv/jiixXPqtxXw4GL9F7pFbK8NAtXRY2tfP78yuC3qN46A6hYq77snfr8O71rdZtdDSa33367pEJdkAoVhsFjhoFZ0QOT44e/p3fOYDQ+0Alr4ze1tzZ1gZP09JtKrUdBYlTMolbakdIQvZIo6JN/YPgHwopDed+yBHWyvjCsjIYkSZKkGRvnb3rTmyTVxxlENQoIaxGwQiN74LiDcJMhyvWxwiTrOJiyWkLDj3EYjLOggepXKg122DjlRSOb2UZRLxhmBpUNXf/f2YAHHHCABpNhYTQ4UGSbbbaRVAxOFjMqXwh77FYIWDjEjYRYfIjLMT6AXjdvDCoMfGX62MqVKyspl3WwOE20L0yVYuAS1RLOSVNCY2nVppLcUROv8racpjkUcPMpp+2WH15R/AjPYTtFvOp+73Pp9VNN8jWIUjAjbzxq0MY4Asa1lNftbUcFpqJUScN7h8fIgDeqKIzjMIxVYJod/0iSumJCfg4sWLBAUioOyfBnWBgNSZIkSft4OtAOVp3SQOONxhQzADiFy6Bbb4tTdVQYvB5786yhQ+PN33O6tPx/GpJet4/JDpOnYmnc+xj8PR0nOmB02KJzF1Fe3sfpjIrzzz9fknTCCSf0uY61xZA2Gs477zxJRUESlvQ0dRkMvpjMCGApVN8AUUlaL+/B0jSfy6ZQzlTwDcF9dlvsutbYVA7YOCYq5mR8LN53FxbxOaEsycAkRsvzhol+X1cQyN9ZcXC1yIMOOkidiuNgfA3LwU6RwuDjPOecRyqfm5NPfkPld1xfU/YFYxtYWIlwzLBAk7fn771f/ANR3hfGGnBdkWoRHSvjhKJYHMZhcGzVNdmS4ns7Gud1sVH+45GKQzLcGdJGQ5IkSdI+c+bMkSTtsssukloN/bLhG6Wu0jGig8TUVcYLRLUSDCtycgrXRAZ02eBmxVQalAxy5b5EdRt8jOwhxHMSVQyOMlCYKl3G18qp7IPFkDYaXIfBCkMUqOMLVpbeOOfLOWEPWCsCvqi+ARjgEpX5Jd6ebwCvnzJX+ca00vCqV72qcgwcwIZyoeFDgJ6UzyNb3kblqtmCO/KuoxuxvI9UMZyB4Xbmxx9/vDoNl9nmA0WKY1l8nDNn9sjD//Zvj1aWixpFmagMOa+pr7UlYX7OMcKHFt/zPqkjKi8c1TiJ7pmo5C/PgcdbFIwWlWiP2iFzu3yA16XPRWmHqTgkw5UhbTQkSZIk7eM5+cjAKxtoUf+cqP8J4yL4fTRVx+mppj4+NJy5vbppaKohUQqyiYqq0WCNiqNxGo9GJae/OT1YdvhYGyKaalxXDEmj4YILLpAkjRs3TlJcdZHeV/lkM4WGMhZTbzxvzfnNqFJeNOh84T1o6GHzBvV3XV1dGjlyZOUY/H/eNDz+CCoA0Tw2pTy2wObNyhuFHl15v6J2u2bMmDF9HsNgYC/S19DefN21iWoTFK1w/U3Pfz7/+cWSinP06U+PrbyPWlNHdR2iuiFRXYZIXWpqzV3+f9R4Kop5iNoJU9niA9nvmWXBcx8pb4xHaGq1XXdv8h7jAz4Vh2S4MSSNhiRJkqR9Zs+eLalIaY46UZYNvajkOOMg6DA1lc6POqpyOU4XRYGxdJrK66UaERVLi+ozGE5RNU1DR8qCHS4qDaxFUTZwmVLv75wI8MlPfrJ2H9YWQ9JocCBIJNNEg7fsIThKnzcPvZfIk+ONFFVhNP790Uf39CfwAPiHf9heknTmmb995Xc9y5999p9Vft/V1aURI0ZUBjulMnqXTV4pl+ccrvfRKgsHOlWaqL9BX/0OokwLL+OMjk7CcSh9xR/88z/fV/vb1qAtP+iqn59wwmavfF7v4Zuo9kWThMkHMB+Wzu74+7/frnb9dftTV5imbt1R9gSlWioSUXZDVMmRfzA47nkOuD0TZXOUjzVKqcsYh2S4MSSNhiRJkqR9HFhsA8u1DWhI1U2xcSrWRh2L50XpvU0KA6ebIuMzyoTg78rqCYug0ZFhIbtIOYgcsOgY2A2TmSBUFuiQlZUGFiXjNtc1Q8pocCS9m6t4IHD+lV5/ndfl37IiJAuWMN+d3g1rFPBC+oJPmXJj5X1XVzVj4fOff5uk1jn9F198seKplQcrc+W5be/jMcfcJkm64ooPVfbZ8KZjxT1KalF6EqU/niN2TpRalQbj937YdUJ7WO9DFN1/5pn39y57xhlvlCT90z/d2+c66fX6mp577hOVz51tYXiNmPrVFN8SKRhezgpDfx5MfHBG8nIUI0DVjmWCGV8R9XPh+r1e/2GIsnxYjrguFqq8PSlWJ6I4iqFQfyRJ+mJIGQ1JkiRJ/2GJdxs5Lpdvyk4Li8NxHZxOcmaGHSE6QCQySDntyvR2Oj00mOuMOv6WU1rlVPY6ovRxTrmx4iSVBr8yyDzKECkvw/dNVSXXFkPKaNh8880lFd5nVL7UmRF9KQ2GATCUhyJJzO8j78VwsBXeS896PWdPz/ATn/jhK/uxQg888AdtvfUG6u7urkhUVEcij86/Yb+NCHpmDMDhnDRvcv+O18HLl2/QyGvkfLRLqA4GV199deW9j4+xHaeeOr53mc9+tkdhKK6rHzbV96efvq0k6ayzemJaOL/uazpr1hO1+8bMA7b4jbx7XjPDB1GU1dJXl0sTjRMu36RAeB8ZNFbXp0VqHUtUc5rqiUSFgPiHofydYfwDVVDfS1/96lclSfvvv7+SZCgxpIyGJEmSpP/QGKexWBfoWmckSa3TRvT0o5iDpn2jgWrnhkHoLMzn+AxTNk4ZFE/1hFOpUUxD1N7dsF+Gg8epxvA6cLt155Sp7nS+1nUWxZAyGtxSlVJSk7dad8GjwiNUL9jhkZX27HU2SXFRQZSZM/9f5XtH0ReeafH7VatWVeZdTz31jso6C+y5VY81ynuPPD4qEj4XbBzDZi5+jepHlFvXGmZg8Fr62q9Lbrjhhso+sAsopcfqwzPqWln93AqDcayLh1NUTdOv8+ZV64d0df3xlVevrz6ozDESfGieffaDtctzbFghqVMamlLuTFOHT96TLEjk8x51reS9HGWMsNFRlFbH2J7yMUTph1G75+eee672mJOk0xlSRkOSJEnSf2zg2gO208N4gbrCVVHKbDQ1Y8MoUjPq6inUfW/nI6oDYa+exmldBkjUJyNqqhfVhiA0TOlAcLqP04+MgaCaUN6Gr5nbJ/g8/P73v6/dt7XFkDAavvSlL0mStt++p6ZBVAKVQS2sDFd3Iag0MMbB3/sG8To5Xx8NOnPZZftIkg455D9f2Rcvx0hz/6LwULq7pcWLX9Ls2Utqaxzwpi5uIg/4qqdGokIlPnbfvFYIOKccVcc0fDjUVebkdeBN52t66aWXSpKmTZtWeywDiY8z6hjpz318ZQ+0qfhLX/04yr/juFq8uOe8XHTRMkl1Splfq+vh+mfPXtLn9qLfOavCmSJWHOrWxT9ITb1IGJsQPXD9yrFDKTjq32Gi2AmqBFH/D6k1Qyh6JhmOFcfLTJ48uXYfk6TTGBJGQ5IkSdJ/rrrqKknSVlv1TEfRaGE/g7qma3QCaCBFqa/tEjlaTW3doxTZuhb1NIajKaqmfSRR4bymkumsz2AcGF++DlFKMqeR58+fL0k64ogj+jyWNWVIGA3OlmA/e85FepBZxom6NZbhhaBawZiGKCAmKmASyV+rVlUzESIvrCfGoTUWg/8vE0WjM5aA244qRZoo5YnQU4zORfn/zLCg1+nvPRbWJosWLarsG4On+DD1g6AsEzKupsiaUOVzXvcovoQ0lewl7X7vCqVNmQ5erm6ZqOFQU3VLjjtWZY06ovKPGKu8MhMqynCKFA7GSljhqNtn7iOrpHI5TxfccsstkqR9991XSdLJDAmjIUmSJGkfF5Hadtue6SOWzWeFQtYRkFrTy1nALmrOFxl3TYGxfB+1OqcR11cBsiittklhaDKyuc/cN8Y2sCAep7mpqtTFlkROm/d1XTX36yijYY899qj9/Omnn5bUKjWZqJOfqZO/omyGJg+PRIMuGpwePL/5zTNesmH90vPPP6rubum++y5GOlF73uOb3tQTODNp0mWVz6NjaFIwWvexXmWJHgJ9Ecl9lFVdHXRt8Lvf/U5S/FDieahTsnwcixfb06zfFmNY/J7L+/M//vFxSdJ998313nCNeF/NpDHjx1dVJx/TZz4T7Wffylo7NI0fft90DzZte3VVnKY/JHW/ayqVHClLZoMNNtDEiRNTaUg6no4yGpIkSZI1x4XwPFXreW8btlYePN3HwlnlZVncihH+kTPXrjMSGXem3QyHOryPVlTq4h762sfI0OS+0nGNptD5yqqXdUpDUxyGr4cD1tc2HWU03HbbbbWff+Mb35AkbbZZT+c/xh/4vU+a30dtSaXWCGv/1jdZVFHPRPEA/N749y5EcuihN0sqz5/6RuGgXaW77z5fK1eu0g47zOitJCnVxXj0fD5yZFVWvOaav5NUnYut2/foxohkSK7HaUMuTct4hKjPRB18QPm8WQXYZ599GtfRX1ylz8fDWhws38rsnPL4euaZZyrLzJrVoxBE44jjKcrzv/feHoXhjW88rrK+dr1jL/eZz2xTeR9lMLDcrakrv+t7yH+IGFvEGAWv0+PGtQtYGIdxL1QF+Uct+mPCY+M5ioLWvF0fT10WEhsUsd4It8F4C96bSdKpdJTRkCRJkqw+c+f2GJW77rqrpMLgpdLAdOG6xmc0omhM2ThrKqXdXyLFwetjam1UNKy8bzZEGUsQGZj9nfpikCyL/jE1tx2FIcLL0HnxNl2iYPr06Y3rWh2GhNHAWAV7LlH/hyhqv+whMMbAXmIU7EMihaGpm6AH1bx5e0mSjjzy1leW8yCtVxyK7dZ+3PML5OZfcsnekuKskwh+H1XaMz5Ge1lWBTio6yL9eW2jCp1NsuJAwAdqlPLlMcPaHWWv29fZ56Rp3j6qQlhasnafWy9l/cOPrzzWaPtWDzyGfFxU5qT4fEXjhu9ZnnjZsp5aFFaXrGCxeFBUj4XZG3yARw/+urou5c/LRBkXTbVK+OD3H8DrrrtOknTAAQe0bCtJOoEhYTQkSZIkzYwePVpSawE8ThFGXnpZNWDkP1/ZitzOG+sItJu5EE2lcfqU8Rd9BaFy6oql9JuCtePCeVX8Oys6Pkd2GuiE0oGioVqXlk7HiinHNtrXdsn9IWE0RGkzjDvwBeLcc18NU9jJzheb85ZN9RSiGyRSIuypeQBwbru8vmqEfWsGCPfhwgv/urINzqdG8RZNATdRvQWmGVkK5HXiDVP+PxUGSpzt1ohYHRYuXFh5z3oMVDf8uR9adWqUb2Av86lPbS2pNbaB5ziWdOuzF4rFW2NhJOkTnxhT2Z8tt9xSUhEfxDbG0cNxdaVmqe86HeXPqfD44bf11j3nbunSpZKkxYsXSyqUCKomHG+My+AfUtOUIcJ4hPKxUaJn/AbvBd5TjO9Ikk5lSBgNSZIkSTMsrc3pKKsBDO5tLUbW6kTQ6OM8vY08OnNNU3PRFFqkUFBp4NRQndLAqpVN08qmv+m3NlwdDMyCY/w9j7HOoKVDFaW2103Drw062mi44IILJElvectbJMVSGkuiMjKZN0Z5Xaz6xwHI5XmBou+jweZ98KBw3MHUqbf0sb6efz2qQxyPEKkYPD9sNRv18qAKwDliDvwoir2vmIimjAxWB/S+uk7D8ccfH561P7qfAAAgAElEQVSPdvG27OFG3Tm5L/YKfX7LKgiDk6zCnHLKOEnSOec8Ull3kU5WjW1pvd6R0lU9Fp9zb3+HHXaQJG2xxRYt+1pH5GXTMy4/DHnfRdIvryXTz6J+MC6F7IY9TzzxhCTp4YcfllRcDwaZ+XoyoM9EKldUM6T8+ya5OipQxHuMz7Ik6VQ62mhIkiRJ2odTKEw7Z6osg8er7d1V+Q0D0RnLEKV08z3rLUTF4KKYhmj6uc5ha5pGbiq61W75df6OAfVswBc5RXWZJzTcvS5W8ayr6rk26GijgdHYPKGOYWApVN8oTXEIUqscFKXeRApDFC8RLcd9KKLXq948t+//1x0DZUSWjI3y3qkwcO6e+8L4C954UR1+HkvdMdTFO5S3xeUGQoJzpDrTsKJ1RzUM6jJtvE7HDPiY/ZtPf3qspFbFgUSxMSecsFllO37lNd5uu56ulI4LoJoUxbf4c9Yf4MOv/Hv+wWJTHgah8Y+QJV037bFi5u+5/Pjx4yUVysODDz4oSXrssccq24sC9CLJOIp5qFMqmMFBOTzKEIlUOe+Ta4bsv//+SpJOoqONhiRJkqR9bNy5eVpT8S86DuW0YXrJUUxDVLyrv7UOmpYj0XRpHU3Nypq21RQkG03FRWnBTfUhysa4DUnGcng6zinu/n5tV4bsaKMhiob2SWNdAHvUJiqgUV4X01aaIqqjKnRRxkHTjVFE6Ns7rwbsnH76tjr99NfohRde0PTpo3TJJX9sWYe3PXfuHpXPfV48uBjBzWPi+yinP3oQcY6a87N93RBM3+K+MFOjnaqSEddee62k1owMPkCpoBjOidMTrvutVQx2Pzz55DdIiqsl0tP/wheqcSqGEubYsT1KhuMAovK2URS/MxP86u2xY2pZkvb/rRh4nawU6ld/7uqZTz31VGXdDqxzpofTCVk4x9t705veJEnadNNNJUn3339/ZTtUkqg4MN2Nrx4n5fFbl+1UXifHLYP3oq6YGduQdCodbTQkSZIkzVx++eWSpAkTJkgqjD83+2MQNLFBVDaQGfdgotRsft/kVZMmR6uppkJfRP0rmpSYJpoUiKaeFVE6bzm2hAqDnWMG/rrfiI9tbRUK62ijgXPojFngyTNsN9pXWVPGAVDV4OCK5rUZd9EUgEPmzfsbSdLhh3+jstzKlSt7Yxl6jrv4vdc5e/Y7Ksdgr9S1/L2uqP5AU18NDmxeF55DBkT11ZeDAVtRvATn7PuqvdEE566j2I6o8IofyKySWD6PPA5uix4lx1nUByF6yHD+3gpDu7EfVqXuvfdeSUUtBPd9Me973/sqx2wvXyqUAL+yB4VjFaxeWFnwtn0s7EHh5a0guNaEt8P7/A1v6FFvrFTcd999korKklTEDOMNGMdUF/vD/hSGkn4Uy0AYS5IknUZHGw1JkiRJMw4KtUFlo9JKg2McaLQwNbdsSDWVdCdNgedN2RFNdRrWxFGI9qHp86aU8CYlgUROpx09OxHlIF07ywwotuFuY9rGuZd3gPBAMySMBlZ040lk9HuUdVGWs5jqwsp4ht6GL7bnYR2pbWlozJieCnxRak/kSXq7F1zwV5Kk//N/vt+7XHd3t0aMGKGNNtpIJ51UDIQ5c35fOV4PSM8Ze90+NnrETS1no8wFniOmXtnD83nnjdBXRT1G5zOgyKxOZcgFCxZIKm4uRslHykuUr09Vqi7VK5Ir6VFSkaASEXm9vAfYadJEWRLe/i9/+UtJhcwd4Ycb5+ilYtz5D5XvBcckeJ9cK8Lj9sknn6z83ve3x4SVCG/by1lN8Suvq5WNN7/5zZKkhx56qPLKLCLGK/HerMuq4PjlH4VIMYv+uNRVnUySTmJIGA1JkiRJKy6A9653vUtS4SDQMYiCT2mc1jVd4/SdaUpPJ01KQ7R89H20/YHYxygOo6mmRFOdB6Ze+zr41QZzeT0sFOdpOTsI/jyqFTHQdLTRwJ4GzJ4wPjnRnH2dtxpVo2vqNuib7uc//7mkYu535513llRcSHovUR8HFirxPp91Vo939MQTT6i7u1sjR47UqFGjKvvzT//0pso6KXF5H/wg8XlilHjkSdOrtOcWeflUbbx9Xz/W0yjvA5Ufxktwm6vTlIUVBzlOqBxErYG5HmaZSHExF0bqM5aDSoM/j3qVcJ84tx55vFSlmhSGffbZR1Jrpkhd11Efuys2WilgRUePp+gBTsXB58QPWGZRWaLfZJNNKvvmP37bb7995RicXWHqsiOkuGuuVJzvqPosx1gkyRsqFZdeeqkkadq0aUqSTqCjjYYkSZIkxl4njUkbSpwqtFdqQ86xDg4+9fdSMZ3kV39XV8ysvO2IptoEA0V5fZFS0Ndvyu8ZEN+0PLfLcxSl2nKqrKwSeNrN15TKgh1ZOipe55w5cyRJM2bMaDnu1aGjjQYG51A5iGokRBUK65QGeo0mimZ3DMMDDzwgqbUFapNnF/XFYBR8WTYs/7Z8E9gTY6Q2j9HHxkHFErLG7/1g8ZyzPTnKXjxWXqeoHkL5GKK+AIYeeH+kt3PPPVeSNG7cuNr9igK+mqpRMpiprIA1qTl8yETR8vaa/cDw75zV8J73vKeyb+yWGMXoGMcfvP3tb5ck/e///q8kae+9964cK3/n/bGqJMUZBL7Grtjoa+jYBv9R4r3Bc0VVzsf4+OOPV5bzubCSwXgCj2Ovx/vF+g/sueLt19V7MYxN4WukLERjL2Mbkk6jo42GJEmSJMYGF6duqTh4eouGO4NMy1OHrBIZFT9rynogUaEx0t8aCKavhnhNSkOT6tF0jFFhMH7vc2klyGqCKRumUfsEq0ROTabDtbbarHe00cBAD3rGrPPOuWkO9rKHyzngyGPw575Qngf9wQ9+UFn+bW97W2XfvDw9Bs5Vc7uc/3/uuee0cuVKLVu2TDfccENl2Y9//OOSWmMNOGD9YOADpamOBeeQfX4tidILjapiRk1ypLhFL+d2qcT0p7BLNA/PMdDf5jRUScr7xAcslQeOC3vlXt4ZB36YLF26VFJR28D813/9lyTpAx/4gKRi3DieoK48sFTI0c4k8HJ77bVX5Rg9dqwoeKz5YVe+p3h+vE1K4o4D8vl3jIOP1ccQKQ9UHDyuWVGSci4VBytPrgPhhy+fJzyusnrTVMuBcRLRKxVKythJ0il0tNGQJEmSxNhY4TQGlQMbZDTc/d7LlY0UNkPjdG9/O0aapsJWTctFhpopG//RlHbktDHVu93aEk01LLhvUTB13e/tUDho2Qa/jXA6L0wdXpOS+3V0tNFgD8EDm94SvTfGLjBuoc4raurM6MHhud9rrrmmdl+tinBOmReUg4P77Jvd3v2tt97a6wkR75O9PkuVHoheF2sgmKi+fdTcZcmSJZKkbbbZRlKr0hDlnFM2q7upDWM62F2RcRntwBuUilRTMxnOqdsj9T72Nb4ijzLKyLDCYC/ZVQyvv/76Po+R583Xyvvq8envH3300cr6qahRjaJa085Dkg93/+Hyw87qidULKgSs78GHIq8XlTEfS13FzvIxucaKVUSO474aMXHZSKWIYpqalIUoxidJBouONhqSJEmSGM5v06O2Ievl7GDYiPSrDauykUIDKPJYm7zrqLBYFCTc5BlzmomOR/k9HYN2iVSPyLhrt9FhU3VNGsBS4YDSyfM14xQYx8BAlyTvaKOBg5Z1GKKgE84n9jXoKUMxX96D45FHHqndxw9+8IOSiij3aHBFHrK3Y0XC0pO9sL749re/LUn6u7/7u8rn9qDoqXkbPE/EHiGDrFiIxOVLTaQ0sF9EXWVOQ4+M89emPxUhuY3o+KN6FVQ92PWTNTnK++tlWVPAr8berq+d5/1vueWWto7R15ZesbdrRYEZN8xK+eEPf1hZ73vf+15JhWLBfht1EnJTYBxVDY8nqyw+n1YeOBY4zry8FQufy6gCqvG+e7zznPE5w3u7jkjuZiYJofLgbc2cOTPcVpIMBh1tNCRJkiTNMMiZ3mZkELMYXZ0xHikDJpqejCo60ohryljg1DGN/shpLP82Cnhvdx+aDOB24waoLDQF4EuFI+Hf0ojmNY7SrweKgY2QSJIkSZJk2NLRSgMlflvTfs/GVFFRobpGRE2Rvl6HrTSmuhmnbTklzXOLUdEiWn2MfnbQI+XrTTbZRHvuuae++93vtuyDf8P5ScNgKqbh8RwwVc2/Z0R2NJdJ6z5KNy0v41emKvo9CyhFQZx9weNkpLThdISPl8GBUcnm8v/ZZM3X3/tgKd0enqfBHCn913/915KKa3LXXXfVHtvtt98uqUiZZKMrBhl6vDLI00WdKKf7XDB9tjzWoulAjnHfIz4XHkee7mJwsKfJfL59bN6OUzZ9Lj1VyFRiTj0yYJit5JtSvPs6VvYY4BiKPF4zEB0dk2Rt0NFGQ5IkSdLKeeedJ0naZZddJBVGIWtaRPFgDLhjtdPyZ01Be5yGaGqd3d9pCU5P0Fjvaz8ZNBllzbUbhMlt0iFlD6F2ClCVqUu9ZA8VXuOogqrjkMqlwQeCjjYaorkwlpFlkZ5oUPVFU7SrS94eeuihkqStt95aUtGEh/m29izq2kFLra24Hfhor8fe1eTJk3XPPfeoq6tLY8eO1UEHHdS7DqeuOZDM58P7ygAv7gOb7bD8rr1JqyneJwesNc3HcX60Lq01Unz8OVP9VqfYDRUrBicy2JLpi94XlnKOCvOUP2tSGHwNXJ7c58htpf0920l/6EMfkiTdeOONlWP9zne+0+e5+Ju/+RtJrf0EvF/+o+Fz4CJRLi/tboqmXEba6/S44/jyOWAlOysMUbEsKldUT/x7FjlrKtLklOV77rlHUqHuOMOAipQpj2s+N7wtKoy8N/hHLCqVnSSdRkcbDUmSJEkrTJ3kVCIN3mgaMCoNXf5/5BU3BUg29QjietoNKmz6vq6ORlQ3I+pX1O62owy06FijBlimbj+iDL+oWi4DJJtSYvtLRxsNnANn7EIkl1GmqZPBmi4m85zf/OaeVtX0ynnDsEkOCwGxi5m/Zz/7LbfcsveYyxJjXfcznxcrD/aY/EDxHG8kI/LB4n30MbqYk/E+RFG7htXPmA4oFXO+9kKZ1hjFG/Rnztfb8G853+z9iopA8Xh4k5ryPvl6+vr6OysG3qZTIf3QtwLh5X1eeE28HisHTr9twsvtvvvukoqx4XHLtuY+jt12262yX+xZUP6MEfmMZXDsAKVzPgR9fVj5jqXavZzXzyZfxr93fNLDDz8sqfUaeH94n3jcl8ckxyn/aBum5TIWIiqVnSSdRkcbDUmSJEkrNohsjNhQY0EfTvfRgO+rB09/e7FEPWfoKTcpE03bbSofXaeWNK27XVWl6VjaLScdKQ51jm5U84c1V6KeLAOdctnRRoNPig+eg5DWOqPao9xcqXXOkBeZNx29Jc4Bc9BwfpeehL0nZz74GB0v4IeA97+rq0sbb7xxrWpir9MelOdq7TX6PHhf6PXw2CNPjt5upAb4WJhlUVfBLfK4mCnDmJH+zPny5mL2jR/A9EybSkAbKhdScX39GytHPg5fd8/Hs8kas2foofp1dYOcPM7e8IY3SCrGBrNU/DmvEwuGlfeZ2Q3lNu9ScU44Dj1evQ9en9WaKPuFMTu+D1g+nePAv7PK4usfFY9rZ+yxTDTjeqJ23xxrp5xySriNJBlMOtpoSJIkSVqhA8Vpz2gqkoGYdKxWZ/6b64622a533q6XHi3fV+XfdrMYSNQzqN24DdPUrItqgtRqdNMp4+cMzI6qkK4uHW002MPgPDdhSgq9MHrOUmuOuL0cem7epudh7cUb/84eBesxMMfc8QZsx2tvh2rAiBEjWm50Q8XF3qPnaNmMiHP4jGHwIGPJYx8LO+TRC6Wn52PzdtiArLwuyqWcv+bN1p8535NPPlmSNH/+fEmtXntTXfqosp3xcXuMlPfPKpC36UZSzo5wm3ErE1EtAXq/Xt7jZtKkSZKkRYsW9XksH/nIRyRJEydOrHzOce17yctRJWJzKKm47jyWSGnye2cOebzyHuIDmYoPJXl+z+1bxYtao0fxTaxIWF6WsTa8pygdM+bBZNZE0ul0tNGQJEmStBI1e/J7OgZR8PiaFJWK0tT7681HSkO0/qhnTN37qMR0FMjeVD8hOqam99F55pSXHa1yHELUQ8jL+tVwarzd2hPt0tFGAz2MKL2FDapYyc0n1fEIUnFRGNHPm42Wv/eFdRiYwsRIff/OSgNzwqM4jZUrV6q7u1vd3d164YUXKoORc7DelqPHrWbYA/QxWh3xq70ge4g+N+yORumTDyJWUvR6Is+tDM87zz+9vdWpCMlrxbnwpjls7guj+8veo7MgzAMPPCCpuJH9ypoDfDgxTofeu8ePP99zzz0lqaVy6Ac+8AFJhXLg7Xhs+FpaGfHYaJKCy8qcPXifD9YR8T3DP2weL85m8Lj275mtw9QyyrJejhUlva/Rc8TwenN/y9eI97m32RSzEMnYkQKRJJ1CRxsNSZIkSSs0aBj06fecgmQMQ38rIZaJCrJFr1Gxvqb3UZZFNG1YXj6Kr6DR1m6GR902ysu3E19Rtx46XGUHl2n5vsacbvZUpR2JyPFdUzraaPCJ9MEzfoCSE7MFfAHs1ZdlHEb+c97e3om35QvBmzFKd2FlOH/uwWCvx94ZlY9y++Du7m6tWrVKL730UmUQMlaA3o4HkY/bc+58kNgD9HnyeWcbZJ8Dxn1Ec9dUILydvrInvE16lwwGshfaHxg/EikNfIBEfSS8PsYvlI/LMQyG8+LMmmD0fXSufQwsAzxhwgRJRQ8JjysrH96ux6F/53iYKFsi+gNQvpaMD/I95HH25JNPVvaZ55t9LtjrI8piYZ8Nb4/PA17PqM6LiYoN1cXT8I9wVCOGsSrMRMqeE0mn09FGQ5IkSdIK06FZHM3YCGfDMpZnX51Yhmg6L6qu2FexvXaw8ccAV66/fCyR0RYVoiPtfh4pFE3ntZ2METoYdGRtJPvaMs1/oOloo4HV9KLBSI/R37O3QN1gpbfiV3YB9IVyRz1fIKa9MLecSoP3jbEMUd+M8jFvuOGGfQ4uBj15MPmBYaXBc8yUODlPztgHqyJUZ+iRMcuCcQh1SgP32ec3qjrJh2M7zJw5U5K0YMGCyv7Rc+Q55hhhsRR78eXx5WVcn8HKgJUHe/qMx/Fxe5s+l/7jwHPM6p/27j0u3TXT58vb8/i0wsBofz70GAfga+rMB6mISfB3O+64o6SiP4vPSTnjorwN3kvscGoo6fpcUWFgXZHo+dGupNyXlB+V8OWDO8qGiWqAJEmn0dFGQ5IkSdKKjU4bbWy9bWOErdBpxFBxaKduAb3ppsyC/ioLTXUcmmoh1PVtiF5Xt05Du5ke7cICfGXYKC+quWHnkFOQAx1c29FGw0knnSRJuummmyS1zvtSWWBNhL6CWqKbh7ngrHvPOXdWKmSMAzMW6Fl735j5Ud4v71O5o2AZ7gM7QtLzsuLg7Aqv39UJ7bVacfCx+pjs3doj9KBmzwH+jpX5pFZ1hLENvhEYpT5jxozac9EO9nR9gzL2gnPfDDzy8bE7YzlmxuqD99/XwOfe59DH73VYyeK+sSqqz6nPG5f3tfD62ffB1yzKKOC8P8+Jx86DDz7Y+xtnYlAN8jjgtqgYsC6DP+c9w3EUdZBkt8tIUWhXgq7rC8E/1hE8fxzv/v2pp57a53qSZLDpaKMhSZIkaeXEE0+UJH3961+XFAftNpXLZ8BteXp0TfP7Vzd2IQq6jYy70067U5L08MNx5cMmhSFSDvrbKbId9aMMU/3tXJQL4HGK1kTX3MZ6Xan3gWBIGA2uVscKboyWjuai6SmWl6VH6/cMMLLiQG+GF4reN6Pf2Y+Bc9p1ueBlOap8jAyQodJA1YISGGMNfAz0ZumxsUaF94PnkO16Wd+gvG2mhNHzZc+ONeH444+XVMQ2WKGiWsT+I/bemZXi8WmVQGr1qhnLwo6Q3oaVAFeKpBftc+19o4rEvg5U53weHWfAKqpRPQHvh1Ua150oxyf88Ic/VBlnk1Cx8flm3QyPhR/96EeV9bz73e+W1HrPeb2MDzBUSyJ5OwpGi9IZyzVCmuIjuK9R+uHq1B1JksFgSBgNSZIkSSs2OssN7qRWw57TKGw/buOmvB6mtjfRVE2x3ToM/F27sRPm//7fX/X+/8IL/7qtbTRlgkRE01LR1FZEVGq9vC80Yu3k+dr6le3ZVydovC+GhNFw6KGHSirq6ttTYZdCzqEzI6I8F8l5VlY75AXwRWdGB+W/KKWJXjuVBr6nZ+haDWX426hHBbMYjI/dygPrNbAiX6ToeL98nr1e9v6oqwgZ9RHgQ83rdq7/QHDIIYdIkq677jpJrZHsPp8+P6yp4X2xt18OYuL1ZmwLK4SygmSkGvHhR6UgitWxIuBqoX6N+i7w4en9fOihhyQV8Qv//d//rYjHHntMkvTEE09IKjo3XnDBBZIKNcX3s5Uav//GN74hqbUrJR+wHpcc57yHqPpExxrJvn1lT3DfInmb9yyr1iZJpzMkjIYkSZKkFabg0shk0LiNFBu+nDYpz6VH0z4RkTMRKQX8PCqqRmcpKkfv1Zc3Q+ON+9Ruum3TFJbhtGpTbw/uX12Rr8igZzl8pv2yPcBAMaSMBh88qzWyYhwlN1P2wDlPTymHKoVvMnsEvmBsCsJBxBuPNwhvckaItwNrSURqRtRBkfEE3raP1V4m40Ds5fLG4Fw1r1PZG44atzCi3p7yUUcd1XxC+skBBxzQ1nI33nijpCLNzefJc/fl+BXvt88Bz7njIpyF4LgIf87YhLqsmvL3UTEZxjqwIAzHBOfcPf59/qmg9IVVlRNOOKHy+Sc+8YnK+yuvvFJSoX684Q1vkCTtsMMOkqRf/apHbo4ymDwOeQ9F9RxMVLfBRHJ4+RzzfFPF4L3HB7/37bTTTqvdhyTpNIaU0ZAkSZIUUClgQSs6JfRko3LhZfrb4ZGfR6nvkdcetQ/n72fMuB37x9d4yonGHqe6mjJHmpQHGphN2RN2MhwIXXaseC1ZICxKyWehwYFiSBkNnoN2mhEvcNTtrk5m48VihDfjIOghssOkf8f5cL7yZo3UEnY1NHXVFJmXbqhWNGVs8FjtOfs8s/cCPT8uzzSuvtKX6Nn6gWF1ydH6g8mHPvQhScWcPOMOyteGXSyjLqaex7fi4ONnTwrKnlTKooqErs/g/aA61NSHwdfQPS3GjRsnqXgQWRWQpCuuuEJSke3gOhZN+Ji9r1Zdtt9+e0nS2LFjJUn3339/ZV99bnyuqbowcyEKRmv6o0YVp/xHNIojiupcsDptZk0kQ40hZTQkSZIkBXSUIiPG0Pik4VV2PJpiGdqt/NjUm4LGGMuJM/C1WF+03WK/PvWpH0uSvvzlfSW1TlXR8Pc+2QDlMTRVq2y3gBiVD07Dlo1JOnssgMcpTGZPHHvssRpIhqTRYE8kamASperU1QfwRfMrPX+2GY28S3p+hPED9M45iOpu3le96lWV9VNp8W/Z+4GqCWMYooFP75gNUViZj9IaFYu6GhSGKoTXbQ+c8+CDwcUXXyypVQ2oS23yOea5ZoaPz40zCRiwRvWHcSWRB/u73/1OknTrrbdKknbffffK9g2vOVWrqEeCv3d8kSQddthhkoqskugPFzn88MMlFUrF448/LkmaPHmyJOl73/ueJOnkk0+u/O7cc8+VVJwz74uzXNi/pK8snnbe15Va5v3OGh+MkaIC4YySJBkqDEmjIUmSJCmmiTg9yqBQlsnn501OTzu0W+MgakEeFdSz8UaHzqvv6vI+d1U+L+8DFQaWjKexTOM6IlIYSBQXQmOdZeXL/+d0m68hGwt6nQ5gH2iGpNEwdepUSYVnYm8tStmh9ya1xg7YKxkzZoykVi+eagVvDGYscBCxeyPXy6CfcpDLiBEj1N3drY022qhyU7MGAD2qqJEJB10058sHD4/JN5Y9O58bK0H2svxa5+HxZqFE6RodnYCP7/vf/74kac8995RUn0nAuWovY5WG0isf3iaqyunxxPgS10b42te+VlkPK0RSTYq+p5IRPbikoqOnH/btNsr5whe+IKmI7/jUpz5V+d4lk4l70xDHnLiDZ9T3xXBc8j7oS4JmxpaP3QqZ/wD+4z/+Y+2+JslQY0gaDUmSJElhnDjt14YaI+ujHH8u1072BGnKpmi3siMds5NO+t/K5zR0i32O982/Pfro70qK+zj8+7/v3ufvTZQN0ZRhEgXh+vx7ao0l+aVWx4BTYExPt0HvomoDzZA2GqZMmSJJmjt3rqTWC8leC+X5V5brpHwV5dcz793wpmPRFXr7dUU8pFaPsqxsrFixouKJct+iuVt/b0WAxUCifhgMquIxUsnxq4/VefeUTsspQI6DYKnTadOmabBxb4roWvEGL5fgpdpjvI5IyYqkW9YeePTRRyUVDwZnFEX4WrCCJFPNokwBKg3cv/K6fF78EIv45je/KUnabbfdJBX1Ly677DJJRaxDf4niXxyTElVtjSRmnovyOPC94wA21qRIkuHGkDYakiRJ1mdc7Ow73/mOpLgoHCPu6QSZuilcOkJMIyZNGQY0kOPpH79Wl48rTbYaddGUk2manmsKrm83a4KZIjwGXw8H3tuwlVobCrKvCJ1Fpy6vjUJ40jAxGo455hhJ0iWXXCKpOOG+AOwEKLXGErDeAvPUWW2RgUWGc/RRGdGobKgHiD3wVatWacWKFeru7tby5csr63OgC9OleLNTQWAGh/c1ivBmdgblMQ9inzMrOj42/96fu9ZF+TgdcW/1qBNwXZBLL71UUuu15Pkow6wYniM+ZDhu6P3y2lhpuPnmm9s6Fs/vM/aG7/kAiipN1j0sWYnV9yWxkrDPPvtUtrF48eLK79174sEHH+xzfe1y9NFH9/n9hRdeKCmOkeI9Kw18OluSdDrDwmhIkvSUh9sAABoYSURBVCRZH9hjjz1qP3fwcdSZMqoqaOrm+mng0pBttydFux0m6cj95jduu953TIVX//zzPUHAv/zlhb3fjRjRXq2JadMulxRPVbXbYbMpY6SvQmE9+9ucvRL106Dj6cDiiNtuu61xW3UMK6PB3r9PFj3o8gVhvXoqC5aCPICjwBfPYzNmIcpoiJQGS0ruIujlt9lmG3V3d6urq6vlRncu/q9//WtJRXU+d0xkTEKUd+7zxqqUPgcMsKGHzcwQ1hiw4uPtldOJWKCkE2GtBH7uiHnHDUitNRxY6ZJVM5k14eWYMub3rpboKpXui0Gc4WF1J5Jbo/EZybsMRpNa5VNy3nnnSSoUJ5+3rbbaSlJx3/pYfT4HuuFOxPHHH195P2vWLEmtY7PdrJAkGY4MK6MhSZJkOBN5h/Pnz5ckbbfddpIKA56N9crBulLhEPi1HJBsQ5KBzTZAo+Jwpsm7jsrKe8py6tRbKvsRxTL49a67zpck7bxzYfxFygsDga+55u8q73kMpqkQHpfjsfr8Whmygc2p47Kh2tQE7bDDeqYozz77zyQVDd5WN5C4iWFlNHhw03uzB132EBjpz/lL1g1gYEvUUZKDpElhcMrUfffdJ6nILHC9iLKH193dXRnElBqXLFlS2ab7BPDmjFrS8kaK4jKoYPBG87HZo/R27DGWaxjwobZo0SJJ0qRJk9QpeL8dG7PXXntJKo7D35djG3yOWKuChViifglNLXX9+2222UaS9P73v19Sa4yDvXcWfuF6o9f+pJL5YR/N8/te8QPzW9/6liRpxx13lFTci75f/UBttwvpQDNz5sxB2W6SdDLDymhIkiRZHzniiCMkSbfc0uOdM63UBpmNUjsnrL546ql39K7TBuK5575dUmHE2QCtawRYR1OGAZ0arp/riRSM1gqR0ogRdqxGVL7z+6uvnvTK+57louJlnJok0fQdYU0FG9os8lZWGmxsn3DCDyVJc+fuUbttr2ttKQxmWBkNvuD26vzeg7BcMIMDr2lwsMeEL2pTGlGUh8/YBxdn8Y3im/qFF17QqlWrNHLkSHV3d1dSoryu8ePHV35LbzUqihKdC8OcfkbwG9ae8O/83r/zuSunExk/kAa6jetA4MqDF110kaTiONiJ00qPVMjAPjdWUqIHLjMw+ECNMjc8DssZKZL0zne+U1IR3xJ1Gm03mM3wfinHL7RbtvbTn/50v7aZJEnnMKyMhiRJkvWZp556SlKrEWkD10YePd06Y92GodWHiy/uCarllGu7ToiJKkjSIL3iip4g3ylTbqxsl04L6e4ue/3MABlRWTenEX0+7OjY+HcwdzQdHR1rNLVLh461GMrOq53dc855W2UZKw//+q+7SpLuueee2n0YaIaV0cAqjPTyyxeC2ROcz48udhR13lTRz9ArZ1ERxhd0dXVVlILy+jyg7cWyuiW90f4qDV7O58qvXI7ngnUc2Nmx7J1GrWo7keOOO06S9MUvflFSa20PZ8BIxTXxw9vngLEyPO5I1owCtCiLvuMd75BUPOS8fV6jaFxynHN7VORcCVGKsxzcC6ITOpUmSbJmDCujIUmSZH3GBcm+/e1vS2qNZbDB7qkkG3p1qb9z5rxXUmHwzphxuyTp8st7gm6b6i9Ehm3TfH9koDI4t1A8vD21bI+BvV/+8r6VffDx2/gtG8Hl5TytGKVGW7mhoxU1muMULtsGlIPFfc18jbwvzpZwMP26au43rIwGBq/wRigrDfTw2PGRVRM5x8yqiSSqieD1sMshB5H3fdWqVb1qwwYbbFCpRseKjuyXEXXOjDI9GGfBfWe8B+sx8HfeHs9VXVfIyAPuRJwd4AqClBil1la7UcXFqDRvdG34StnZvx89erSk6jgqb9dwP5rK3Pp4/HBzJU+ptc6B6WT1KEmS/jGsjIYkSZJEeuSRRyS1TruecsrPJLUai/6+3O2RXjH7V0TTnF43uzJ6XxhgbQPV3rrjK2zwXnrp+ySV6zYwHbiaPVHeL//f8Rg+JsYweNs2/LmPhOXh7e37WDwt6Fc6eJ6+PPbY/5JUZKjYCTjxxP/p3dZZZ71ZkvSZz/yisg//8A89Bd4eeOCB2n1cWwwro4Fz6vbGWPe//F1Uo8AD1nPDrPjIroPch6aYCKoC9P49yMrz/6tWrap4itE+WL7iA4H7yEyOKMWJx8KsAe9jU6BSnYrgm8zXbLBy8lcHZoWUMyD8MCp3Vi3D2BYSN+VRZVuWU/3Q8764PgNTyUwkIXO7HBt+b4XBD8u+yM6PSTJ8GFZGQ5IkSVLk6l977bWSCiOSwdB8tcMhtZbId80DBlYbOwtWChw3wTl5BpvT2bPB7Vc7KfPn/+0rx/aNV7ZYjWVwV8xynQb/38oBYxDYKdJGsY8xCkDmdCNjRljhkcfs87xgwQcqx+79KU/huhLnyJFOm15ZOYZ13TRtWBkNDgK67rrrJBUXps7z9UXhQGZPAF9k9qDg3HIU40BPzr+3gsEiKxzE7nC5cuVKLV++vDKIHaBkuA+sh9DkRTaVQuW+sSOjv2cwD/erfAyUMIcSn/rUpyRJX/jCFyRVj8t9QXydqTgwhoB1FJhdwZiEpUuXSiqUBmbjlB/+ZSgJ+3d8OHJ5769T+h57rKc50IwZM2p/lyTJ8GRYGQ1JkiRJgaePZs/uKTxmb5UVEi+7rCduoFwAz46VDcwFC/arvI+UBhZqo/cdTb1xOnTmzP8nqZjv9+dWHKZN+2ZlfUVFyGKf3OXSy9BJYc2J4nfV6WQGzkcF83gO/MpsChvpdvx8bo4++ruV76Ui/sHHcuaZb5Ek/fznP9dgMCyNBlYmrJOaGMPAXhIeBB74XifrKTBlhr0EPO/PWAXGNDDghorGihUr9Pvf/16bbbZZ7zLc92gAs25CnRRZXt43EOMtfC7oHbMGQZRWxBtQKjzmAw88UEMVKw6zZ8/u/cyqi7uWjh07VlJrTY2mrqhWoPzwoQzK4LOo7geVBI8Fj08qbIyXsbLgqpeWjpMkWb8YlkZDkiRJIh199NGSpK23/rqkog25syguu2wfSa0l6KXWcvzGBqljHpiuHqVi0xEyXo7xBM4a8DSnDWVOp5ZjGMjs2T3Fzljpkfvo7zltxwJ1hMcWTeV6e3bw6ND5/SWX7F35nVRcB1d+fPjhhyXFKc5rm85Pik+SJEmSpCMYlkqDrTxblWwuJbXKr0wbtKXndXE6g1Y45Wam1EVWOAsdMR2ybJ2PHDmyNm84CmbzPtqapVVMD8JSNYtkMU/b59WvLPzDY+J0SVnaLqeUDnVOPPHE3v+78JMjyH/zm99Iag2MjHLWm7y0aArKRZ3qCmiV4Xh1CiULcDnQktN06zpiO1kzHnzwQUlFJP555/U0NPO4cUbCBRf8Ve9v6AUbj1k/bzzNyakyvjIegNOVfl6xHoSfMyxkxlgGU36u+f7ztryuqPS99837YoWhqceEYWA8n/d+H2VxcL/Kx+uW8h/72Mf63Ie1TSoNSZIkSZK0xbBUGpx6edVVV0lqLeUrtVqrkTfNYkz0BDkfZ4uRucxNJZfp+dVZ6S4pbWj1Uj2JPIW6IMvy7+gZULHx+bQ1TsWBwaCck3TwozS0AyD7wvON7TZrOv/88yUVFeQcMOlzaXxOfe7tqfhz/76pkp3x+r0eVxI8+eST+9zfZGjh8XjNNddIas2M+MIX/kJStekag21Zjp/eMYN5TdOzz997THM9/vzv//5uSYXCMWvWX1bW+76eBBCddNKWvev2bxlHwawFH4PvAz87oyJozBxhajLrLvAZyXNCNbicgm61b7/99lMnkEpDkiRJkiRtMSyVBmMvduHChZKK+V4prvwVtXWmkhAV3WlqdcyYiahMbzkVr7u7W93d3b2FngxTH6mScB+9HI+V1jQjgFlqm3OO3k65YVP5e2/fOeNlb2a40247aMaRcDwwt93nmuPUSkP0e8Nob8ezpMIwvPn4xz8uSbr++uslSZtuumnl+3KTO48Z38dMrTaMTfA6+KzkK1U0w3l+qwUnnriFpEIVdqEx3ztjx1b3Uyqe+cx+4HOZqmy7KgrrLlCF8b4zLZ6xSfz7Uo77+u1vf6tOIpWGJEmSJEnaYlgrDeajH/2opKIOu1RY2MwkoLfMOShanCzuFH3OxkFRnIEpW7yOZ3jxxRcrkcFUQZjxEWV+GFvBUaEhZobQO/Xy3A96r1YY7BkcddRRSuqJWq9z/HGcOhujqB5X7w/Qw7FX5yjzZP3gIx/5iKSi5L57U3j8SK2F56hURlkQLCPPOJpIZWV/CGa0+TnDAmRcXzmex+t01hKf095Hv6fyHGXFGaqu/h2VBqo0Xp6qrrOUXItB6rxS7ak0JEmSJEnSFuuF0mAef/zx3v/bwvOcly1SZkswEyHy4Jh5QK+f2RScM7MFyvU8//zzWrlypVatWqU//OEPvZar1GpxR62p6Rk0xTxEOcm0iqN5OSoMLkE8WBXMhgInnXSSJOniiy+WVFwL5pFTiXAMgz3FSH2KuvM5k8XbT9Yv3Ir+m9/s6eNQbqzmscT5eGbmcIwZ1o+hMmAYM+G6D+X4CqmoQOl99DPV90Jd0zU+Z/3MjGpGGB+rlRfWU4lK7rM+irfPjDQqEY5hsMIwbdq0lmPpFFJpSJIkSZKkLdYrpeGEE05o+ezSSy+VVCgOtiyjRkJRC2Hm10Yts6MYB9Yq91zzM888oxUrVmjlypV6/vnnKzUObJGznjkj8Wkd0/rlMdLqrmvXXX71MTuf2G2hjznmmNpzlcTY46D3xGtmj2nbbbeVVIzbaL6Z488xDL5WSZIk7bBeGQ11NMlAL730kn784x+vo71JkiRZ99xzzz2SpJ133rn3M5Ykp0FqmF4eFRZjUKFhh1U7I56G8Od2kugsebq1rqMr09E59coARa+bheqisu2RU8iASr+yRbcdLZf5njp1qjqd9d5oaGLDDTfU/fff3zIvZxiT4EHI+UBG50bevwej64w/++yzWrlypcaNG6eTTz65t8KgVEQEsw2y94nVzqgQsO89Kzyy2qVhrfiMVRg43GbbnHPOOZKkU045RVJR0c/XvtwqXWqNDmd8iz93i+tOi8xOkqSzWS+Mhttuu0177bVXrxUpSf/+7/+uqVOn6sUXX9Rxxx2nW2+9VUuXLtX222+vz33uc3r/+98/iHucdAIvvviijj32WC1cuFCvfe1rdcopp2jmzJmDvVtJMuCw7LkkvfGNb5TUGizOBoD0thkUSCWC3r/x89nfe8qNRab8yuJRphxoyVRJtsi2iuFteR84Pc0mfQwGp2PF1Eo2wnKQuAs3HXHEERoqrBdGgyRtvfXWWrx4ccvnK1as0Lhx43T77bdr/Pjxuummm/Txj39cv/jFLzRx4kRJ0qGHHrra2/3KV74iSRozZoykIgKYN5y9fg8mzzV/+tOf1n/+53/2rq9cYZCR9l43K60xbsIqxqOPPiopYw8izjjjDN1777166KGH9MQTT2jPPffUzjvvrH333Xed7YMVBsIHeF8PTql4kPvaO6MlSZKkP3Sc0fD5z39eP/rRj3qLjkg9fyhHjhyp2bNnD/j2Nt54Y51xxhm97z/4wQ9qm2220U9+8pNeoyEZetx///36y7/8S91666368z//cz322GP6sz/7My1cuFB77LFHW+u4/PLLdemll2r06NEaPXq0pk+frssuu2ydGg1Jsi6pK3t+ww03SGp1fAynbFkMys6K30dODZtBMcCbwb0s8cx0xvJv/WqlwIHATAulCmJlwGnkbOLVVLzPyzMA2TEkQ3Fqt+OMhkMOOURnnHGGnnnmGW2yySZasWKFrr76at1888067rjjdMUVV9T+bvz48fr5z38ervfJJ5/UFltsode+9rWaNGmSzjzzzEr1M7NkyRLdc8892mWXXQbkeKhSWHlwHIIHGSvztSODW5XwTbP55ptLkjbZZBNJcZyE688PZ7bbbjv967/+qw4++GD95Cc/0bRp03T44Ydrjz32aGscLVu2TI899pje+ta39n731re+VYsWLVpXh9AnllUp8UZd+PzwchfLY489dm3vYpIkw5COMxq22morvec979G1116r6dOn65ZbbtGYMWO02267abfddtNFF13U73XutNNOuuOOO7TTTjvpoYce0tSpUzVz5kzNnTu3stzLL7+sgw8+WFOnTtVOO+00UIe0xuy6666DvQtDkunTp+vGG2/UO97xDnV1dfV6TBdddFHjOLJn4eJJ/n+5kcxgkGMhWdd8+MMfliRdddVVknqmeqVCcWAwuA3WqDkTC+bZoGUDPbaXtvLg7Ubl8R3YLRXOmB1EpqHTsWKguj+34uB1U2nwMXJ5b9+vhx9+uCTpfe7jPQTpOKNB6kk7+eIXv6jp06drwYIF/Yop+N73vtcbxDhhwgTdfffd2nLLLbXllj091rfZZhudc845+sAHPlAxGlatWqVDDz1UG264oS688MKBPaASqxMfEU3LnHrqqZX3559/viRp//337/+ODVOmT5+uD3/4w7r44otbOt31hR9Mzz77bK9X/+yzz1Yq5g0GHguu4McHdMSTTz4pSTrooIPW4t4lSTLc6UijYdKkSTr22GN111136etf/3pv2tmMGTO0YMGC2t/YQHj3u9/d6yVGdHV1VQoYdXd368gjj9SSJUt00003tZQCTYYmy5cv14knnqgjjzxSZ5xxhg444ABtuummbY2j0aNHa6utttKdd96pv/3bv5Uk3XnnnQM2bZUkQ40DDzxQknpVOsd8ufkfSzQzxoCNqFjIzvEG5RL65feedvV22mnm5iZ5zopgerqX9bairAf/Lsqm4Ho8FTyUsiLapSONho022kgf/ehHNWXKFL397W/X+PHjJUlz5szRnDlz+r2+2267Tdtuu63GjRunxYsX67TTTuvt8ib1zO/+6le/0q233toblT4Uqat4uT7zyU9+UrvttpvmzZuno48+WjNmzNA111zT9jg67LDDdOaZZ+ov/uIvtGTJEn3pS1/qrSA62PjBaaI+IJZJnSmTJEmyJnSk0SD1TFHMmzdP8+fPX+N1/fSnP9XBBx+sZcuW6fWvf70mTZqkz33uc5Kkhx56SHPnztWrX/3q3ikMSZo7d64OPvjgNd52Mjhcf/31uuWWW/SLX/xCkjRr1iztuuuu+o//+I+2r+tnP/tZHXvssZowYYJe85rX6NRTT83MiWS957jjjqu89zPagdg2aK342gt3GjkzEPyetQ+sIDjOgE0E2eyJAeFSEWPg6TkXQ7Oi4O+tEDiWwcpC1B6c7b99bFOmTOHpGnZ0rNEwfvx4veY1r+ntwrYmzJw5M8xGmDBhQkuvhWTo85GPfKSiJo0aNUr33Xdfv9bx6le/WvPnzx8Qw3WgYUdSFpfxA9cZNsNRJk2SZN3TkUbDqlWrNGvWLB144IG95XKTJEmSziMySF1d0lO+NnCdVs74AfagsCHMnhf27q0wOG7BKkLZWTDOnHKsgf+uMFPDagVTmr1Nqyc2xj3ttz5NDXec0fCHP/xBW2yxhSZMmKBbbrllsHcnSTqSv/qrv2pruTe/+c1reU+SJFmf6OpObT5JkiRZRzgI2d6+X53OzNgFBvk6BmLp0qWSitoJ8+bNk9QT+B7hhm9WErwtKwys6Og4C6sjRx11VP8OdhjSd3J3kiRJkiTJK6TSkCRJsh4xe/ZsnX/++Xrqqac0atQoTZ48WZ///Od7YwcefPBBTZs2Tf/zP/+j8ePH68ILL9Tee++91vbHRelcfTUqkW4VwMoCvX73lOlLaSDnnnuuJOmkk07q306vx6TSkCRJsh7xoQ99SD/96U/17LPP6q677tKdd97Z+4db6qka+ra3vU1PP/20zjrrLH30ox/tTSlMklQakiRJhhBXX321jjzyyN73L7/8st71rnf1y8M2Tz/9tCZPnqwdd9xRF110ke655x695S1v0VNPPdUbY/Dud79bBx98sGbMmDFQh7BWWB2lIek/qTQkSZIMISZPnqzly5dr+fLleuyxx7TtttvqoIMO0r/8y79ok002Cf+VueKKK/S6171OY8aM0Z133qljjjlGknT33Xdr2223rfRYeetb36q77757nR7j6rDrrrtmQ7d1QMelXCZJkiTNrFq1SlOmTNEee+zR+0f/tNNOa+u3U6ZM0ZQpU3Tvvffq8ssv1xZbbCGppw5BubOr1BNrMBTKkEeN/ZKBJZWGJEmSIcjpp5+u5557rhKP0F922GEH7bLLLr2loUeNGtWbXmg6obtr0jmk0ZAkSTLEuOqqq3TllVdq4cKFvRUVP/e5z2nUqFHhv4gVK1bo/vvvlyTtsssu+u1vf9tbbVHK7q5JlQyETJIkGUL87Gc/0/ve9z5961vfWq05/Hnz5unDH/6wNt98c/3yl7/Uxz72Me2zzz6aNWuWJOmd73yndt99d5155pm6+eabNW3aNN177729ZZqT9ZtUGpIkSYYQ119/vZYtW6bdd9+9V0V4//vf3/bvf/CDH+gtb3mLNt54Y+23337ab7/9erv+Sj0qxo9//GONHj1ap512mhYuXJgGQ9JLKg1JkiRJkrRFKg1JkiRJkrRFGg1JkiRJkrRFGg1JkiRJkrRFGg1JkiRJkrRFGg1JkiRJkrRFGg1JkiRJkrRFGg1JkiRJkrRFGg1JkiRJkrRFGg1JkiRJkrRFGg1JkiRJkrRFGg1JkiRJkrRFGg1JkiRJkrRFGg1JkiRJkrRFGg1JkiRJkrRFGg1JkiRJkrRFGg1JkiRJkrRFGg1JkiRJkrRFGg1JkiRJkrRFGg1JkiRJkrRFGg1JkiRJkrRFGg1JkiRJkrRFGg1JkiRJkrRFGg1JkiRJkrRFGg1JkiRJkrRFGg1JkiRJkrRFGg1JkiRJkrRFGg1JkiRJkrRFGg1JkiRJkrTF/wcSv+O9oeJZBQAAAABJRU5ErkJggg==\n",
>>>>>>> 297324d983e46b5654c83da0b3b5456fe991b168
      "text/plain": [
       "<Figure size 475.2x187.2 with 4 Axes>"
      ]
     },
     "metadata": {},
     "output_type": "display_data"
    }
   ],
   "source": [
    "plotting.plot_roi(mask_nii)"
   ]
  },
  {
   "cell_type": "code",
<<<<<<< HEAD
   "execution_count": 111,
=======
   "execution_count": 24,
>>>>>>> 297324d983e46b5654c83da0b3b5456fe991b168
   "metadata": {},
   "outputs": [],
   "source": [
    "# Save mask as NifTi\n",
    "nib.save(mask_nii, 'mIns_avg_Mask_thres_03_HC.nii.gz')"
   ]
  },
  {
   "cell_type": "code",
<<<<<<< HEAD
   "execution_count": 112,
=======
   "execution_count": 25,
>>>>>>> 297324d983e46b5654c83da0b3b5456fe991b168
   "metadata": {},
   "outputs": [],
   "source": [
    "# Apply mask to every subject and then average to have the connectivities"
   ]
  },
  {
   "cell_type": "code",
<<<<<<< HEAD
   "execution_count": 113,
=======
   "execution_count": 62,
>>>>>>> 297324d983e46b5654c83da0b3b5456fe991b168
   "metadata": {},
   "outputs": [],
   "source": [
    "mask_voxels = avg_mask.sum()"
   ]
  },
  {
   "cell_type": "code",
<<<<<<< HEAD
   "execution_count": 114,
=======
   "execution_count": 63,
>>>>>>> 297324d983e46b5654c83da0b3b5456fe991b168
   "metadata": {},
   "outputs": [
    {
     "name": "stdout",
     "output_type": "stream",
     "text": [
<<<<<<< HEAD
      "CPU times: user 2.69 s, sys: 2.93 s, total: 5.62 s\n",
      "Wall time: 5.62 s\n"
=======
      "CPU times: user 507 ms, sys: 32.2 ms, total: 540 ms\n",
      "Wall time: 998 ms\n"
>>>>>>> 297324d983e46b5654c83da0b3b5456fe991b168
     ]
    }
   ],
   "source": [
    "%%time\n",
    "mean_conn = list()\n",
    "for beta in data.BETA_path:\n",
    "    try:\n",
    "        img = nib.load(beta).get_fdata()\n",
    "        masked_img = np.where(avg_mask,img,0)\n",
    "        mean_conn.append(masked_img.sum()/mask_voxels)\n",
    "    except:\n",
    "        mean_conn.append(0)"
   ]
  },
  {
   "cell_type": "code",
<<<<<<< HEAD
   "execution_count": 115,
   "metadata": {},
   "outputs": [
    {
     "data": {
      "text/plain": [
       "95"
      ]
     },
     "execution_count": 115,
     "metadata": {},
     "output_type": "execute_result"
    }
   ],
   "source": [
    "len(mean_conn)"
   ]
  },
  {
   "cell_type": "code",
   "execution_count": 116,
=======
   "execution_count": 64,
>>>>>>> 297324d983e46b5654c83da0b3b5456fe991b168
   "metadata": {},
   "outputs": [
    {
     "data": {
      "text/plain": [
       "95"
      ]
     },
<<<<<<< HEAD
     "execution_count": 116,
=======
     "execution_count": 64,
     "metadata": {},
     "output_type": "execute_result"
    }
   ],
   "source": [
    "len(mean_conn)"
   ]
  },
  {
   "cell_type": "code",
   "execution_count": 65,
   "metadata": {},
   "outputs": [
    {
     "data": {
      "text/plain": [
       "95"
      ]
     },
     "execution_count": 65,
>>>>>>> 297324d983e46b5654c83da0b3b5456fe991b168
     "metadata": {},
     "output_type": "execute_result"
    }
   ],
   "source": [
    "len(data.diag.values)"
   ]
  },
  {
   "cell_type": "code",
   "execution_count": null,
   "metadata": {},
   "outputs": [],
   "source": []
  },
  {
   "cell_type": "code",
<<<<<<< HEAD
   "execution_count": 117,
=======
   "execution_count": 66,
>>>>>>> 297324d983e46b5654c83da0b3b5456fe991b168
   "metadata": {},
   "outputs": [
    {
     "data": {
      "text/plain": [
<<<<<<< HEAD
       "<matplotlib.axes._subplots.AxesSubplot at 0x7f5fb94918d0>"
      ]
     },
     "execution_count": 117,
=======
       "<matplotlib.axes._subplots.AxesSubplot at 0x7faea2233208>"
      ]
     },
     "execution_count": 66,
>>>>>>> 297324d983e46b5654c83da0b3b5456fe991b168
     "metadata": {},
     "output_type": "execute_result"
    },
    {
     "data": {
<<<<<<< HEAD
      "image/png": "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\n",
=======
      "image/png": "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\n",
>>>>>>> 297324d983e46b5654c83da0b3b5456fe991b168
      "text/plain": [
       "<Figure size 432x288 with 1 Axes>"
      ]
     },
     "metadata": {},
     "output_type": "display_data"
    }
   ],
   "source": [
    "sns.boxplot(y=mean_conn, x=data.diag.values)"
   ]
  },
  {
   "cell_type": "code",
<<<<<<< HEAD
   "execution_count": 118,
=======
   "execution_count": 67,
>>>>>>> 297324d983e46b5654c83da0b3b5456fe991b168
   "metadata": {},
   "outputs": [],
   "source": [
    "masked_img_nii = nib.Nifti1Image(masked_img, example_img.affine, header=example_img.header)"
   ]
  },
  {
   "cell_type": "code",
<<<<<<< HEAD
   "execution_count": 119,
=======
   "execution_count": 68,
>>>>>>> 297324d983e46b5654c83da0b3b5456fe991b168
   "metadata": {},
   "outputs": [
    {
     "data": {
      "text/plain": [
<<<<<<< HEAD
       "<nilearn.plotting.displays.OrthoSlicer at 0x7f5fb93ee160>"
      ]
     },
     "execution_count": 119,
=======
       "<nilearn.plotting.displays.OrthoSlicer at 0x7faea2183be0>"
      ]
     },
     "execution_count": 68,
>>>>>>> 297324d983e46b5654c83da0b3b5456fe991b168
     "metadata": {},
     "output_type": "execute_result"
    },
    {
     "data": {
<<<<<<< HEAD
      "image/png": "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\n",
=======
      "image/png": "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\n",
>>>>>>> 297324d983e46b5654c83da0b3b5456fe991b168
      "text/plain": [
       "<Figure size 475.2x187.2 with 4 Axes>"
      ]
     },
     "metadata": {},
     "output_type": "display_data"
    }
   ],
   "source": [
    "plotting.plot_roi(masked_img_nii)"
<<<<<<< HEAD
=======
   ]
  },
  {
   "cell_type": "code",
   "execution_count": 38,
   "metadata": {},
   "outputs": [],
   "source": [
    "data['mean_conn'] = mean_conn"
>>>>>>> 297324d983e46b5654c83da0b3b5456fe991b168
   ]
  },
  {
   "cell_type": "code",
<<<<<<< HEAD
   "execution_count": 120,
   "metadata": {},
   "outputs": [],
   "source": [
    "data['mean_conn'] = mean_conn"
   ]
  },
  {
   "cell_type": "code",
   "execution_count": 121,
=======
   "execution_count": 39,
>>>>>>> 297324d983e46b5654c83da0b3b5456fe991b168
   "metadata": {},
   "outputs": [],
   "source": [
    "data.to_csv('conns.csv')"
   ]
  },
  {
   "cell_type": "code",
   "execution_count": null,
   "metadata": {},
   "outputs": [],
   "source": []
  }
 ],
 "metadata": {
  "kernelspec": {
   "display_name": "Python 3",
   "language": "python",
   "name": "python3"
  },
  "language_info": {
   "codemirror_mode": {
    "name": "ipython",
    "version": 3
   },
   "file_extension": ".py",
   "mimetype": "text/x-python",
   "name": "python",
   "nbconvert_exporter": "python",
   "pygments_lexer": "ipython3",
   "version": "3.6.10"
  }
 },
 "nbformat": 4,
 "nbformat_minor": 4
}
