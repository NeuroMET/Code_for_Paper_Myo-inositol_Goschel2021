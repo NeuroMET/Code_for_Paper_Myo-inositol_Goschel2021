{
 "cells": [
  {
   "cell_type": "markdown",
   "metadata": {},
   "source": [
    "# mIns MRS_Voxel-to-Voxel\n",
    "\n",
    "## Make a mask\n",
    "===============\n",
    "\n",
    "The Seed-to-Voxel connectivities from healty controls are averaged and thresholded to 0.2 (corresponding approssimately to p = 0.01), giving the ROI\n",
    "\n",
    "## Extract connectivities\n",
    "=========================\n",
    "\n",
    "After applyng the mask to every connectivity mask (CONN's files with BETA prefix), the connectivities of every grey matter voxel are summed giving the connectivity value for the individual subject.\n",
    "\n",
    "Ref: ToDo\n",
    "\n",
    "\n",
    "Prefixes:\n",
    "=========\n",
    "-) BETA_ nii the BETA files contain the Fisher transformed coefficients ( z=atanh(r) ). When the Analyses.measure is set to 3 (regression) or 4 (multivariate regression), then the BETA files contain the regression coefficients (beta values) and the corr files should be disregarded (they actually contain tanh(beta) but these are not particularly meaningful measures). \n",
    "\n",
    "-) corr_ nii When the Analyses.measure field is set to 1 (bivariate correlation) or 2 (semi-partial correlation) the corr fles contain the correlation coefficients (r) (or semi-partial correlation coefficients when Analyses.measure is set to 2)..... corr_* files are only generated if you select the corresponding option in the Setup->Options tab ('Create first-level seed-to-voxel r-maps').\n",
    "\n",
    "-) p_corr nii the p_corr and pFDR images simply contain the uncorrected and FDR-corrected p-values, respectively\n",
    "\n",
    "-) pFDR nii the p_corr and pFDR images simply contain the uncorrected and FDR-corrected p-values, respectively\n",
    "\n",
    "-) resultsROI mat\n",
    "\n",
    "-) se nii\n",
    "-) "
   ]
  },
  {
   "cell_type": "markdown",
   "metadata": {},
   "source": [
    "## Sources"
   ]
  },
  {
   "cell_type": "code",
   "execution_count": 41,
   "metadata": {},
   "outputs": [],
   "source": [
    "import glob\n",
    "import nibabel as nib\n",
    "import pandas as pd\n",
    "import seaborn as sns\n",
    "import nilearn\n",
    "from nilearn import plotting\n",
    "from nilearn import image\n",
    "import numpy as np\n",
    "from scipy.io import loadmat\n",
    "from scipy import stats"
   ]
  },
  {
   "cell_type": "code",
   "execution_count": 42,
   "metadata": {},
   "outputs": [],
   "source": [
    "mat = loadmat('/media/2Tb/functional_analysis_jan2021/NeuroMet_fmriprep_conn/results/firstlevel/MRS_Voxel_to_Voxel/_list_sources.mat')"
   ]
  },
  {
   "cell_type": "code",
   "execution_count": 43,
   "metadata": {},
   "outputs": [
    {
     "data": {
      "text/plain": [
       "array([[array(['MRS_Voxel'], dtype='<U9')]], dtype=object)"
      ]
     },
     "execution_count": 43,
     "metadata": {},
     "output_type": "execute_result"
    }
   ],
   "source": [
    "mat['sourcenames']"
   ]
  },
  {
   "cell_type": "code",
   "execution_count": 44,
   "metadata": {},
   "outputs": [],
   "source": [
    "# MRS Voxel is source 6"
   ]
  },
  {
   "cell_type": "code",
   "execution_count": null,
   "metadata": {},
   "outputs": [],
   "source": []
  },
  {
   "cell_type": "code",
   "execution_count": 45,
   "metadata": {},
   "outputs": [
    {
     "data": {
      "text/plain": [
       "95"
      ]
     },
     "execution_count": 45,
     "metadata": {},
     "output_type": "execute_result"
    }
   ],
   "source": [
    "# Grab all MRS-Voxel-to-whole-Brain connectivity maps niftis\n",
    "s1_beta_path = glob.glob('/media/2Tb/functional_analysis_jan2021/NeuroMet_fmriprep_conn/results/firstlevel/MRS_Voxel_to_Voxel/BETA_Subject*_Condition001_Source001.nii')\n",
    "len(s1_beta_path)"
   ]
  },
  {
   "cell_type": "code",
   "execution_count": 46,
   "metadata": {},
   "outputs": [],
   "source": [
    "subnumber = len(s1_beta_path)"
   ]
  },
  {
   "cell_type": "code",
   "execution_count": 47,
   "metadata": {},
   "outputs": [],
   "source": [
    "# sort them\n",
    "s1_beta_path = sorted(s1_beta_path, key=(lambda x: x.split('_')[-3][-3:]))"
   ]
  },
  {
   "cell_type": "code",
   "execution_count": 48,
   "metadata": {},
   "outputs": [],
   "source": [
    "# Load Subjects' data"
   ]
  },
  {
   "cell_type": "code",
   "execution_count": 49,
   "metadata": {},
   "outputs": [],
   "source": [
    "cov_path = '/media/drive_s/AG/AG-Floeel-Imaging/02-User/NEUROMET/Functional_analysis/mIns_fMRI/conn_covs_20200115.csv'\n",
    "data = pd.read_csv(cov_path)"
   ]
  },
  {
   "cell_type": "code",
   "execution_count": 50,
   "metadata": {},
   "outputs": [],
   "source": [
    "data['BETA_path'] = s1_beta_path"
   ]
  },
  {
   "cell_type": "code",
   "execution_count": 51,
   "metadata": {},
   "outputs": [
    {
     "data": {
      "text/html": [
       "<div>\n",
       "<style scoped>\n",
       "    .dataframe tbody tr th:only-of-type {\n",
       "        vertical-align: middle;\n",
       "    }\n",
       "\n",
       "    .dataframe tbody tr th {\n",
       "        vertical-align: top;\n",
       "    }\n",
       "\n",
       "    .dataframe thead th {\n",
       "        text-align: right;\n",
       "    }\n",
       "</style>\n",
       "<table border=\"1\" class=\"dataframe\">\n",
       "  <thead>\n",
       "    <tr style=\"text-align: right;\">\n",
       "      <th></th>\n",
       "      <th>CONN_ID</th>\n",
       "      <th>ID</th>\n",
       "      <th>diag</th>\n",
       "      <th>BETA_path</th>\n",
       "    </tr>\n",
       "  </thead>\n",
       "  <tbody>\n",
       "    <tr>\n",
       "      <th>0</th>\n",
       "      <td>1</td>\n",
       "      <td>sub-NeuroMET003</td>\n",
       "      <td>2.0</td>\n",
       "      <td>/media/2Tb/functional_analysis_jan2021/NeuroMe...</td>\n",
       "    </tr>\n",
       "    <tr>\n",
       "      <th>1</th>\n",
       "      <td>2</td>\n",
       "      <td>sub-NeuroMET004</td>\n",
       "      <td>0.0</td>\n",
       "      <td>/media/2Tb/functional_analysis_jan2021/NeuroMe...</td>\n",
       "    </tr>\n",
       "    <tr>\n",
       "      <th>2</th>\n",
       "      <td>3</td>\n",
       "      <td>sub-NeuroMET006</td>\n",
       "      <td>0.0</td>\n",
       "      <td>/media/2Tb/functional_analysis_jan2021/NeuroMe...</td>\n",
       "    </tr>\n",
       "    <tr>\n",
       "      <th>3</th>\n",
       "      <td>4</td>\n",
       "      <td>sub-NeuroMET007</td>\n",
       "      <td>1.0</td>\n",
       "      <td>/media/2Tb/functional_analysis_jan2021/NeuroMe...</td>\n",
       "    </tr>\n",
       "    <tr>\n",
       "      <th>4</th>\n",
       "      <td>5</td>\n",
       "      <td>sub-NeuroMET008</td>\n",
       "      <td>0.0</td>\n",
       "      <td>/media/2Tb/functional_analysis_jan2021/NeuroMe...</td>\n",
       "    </tr>\n",
       "  </tbody>\n",
       "</table>\n",
       "</div>"
      ],
      "text/plain": [
       "   CONN_ID               ID  diag  \\\n",
       "0        1  sub-NeuroMET003   2.0   \n",
       "1        2  sub-NeuroMET004   0.0   \n",
       "2        3  sub-NeuroMET006   0.0   \n",
       "3        4  sub-NeuroMET007   1.0   \n",
       "4        5  sub-NeuroMET008   0.0   \n",
       "\n",
       "                                           BETA_path  \n",
       "0  /media/2Tb/functional_analysis_jan2021/NeuroMe...  \n",
       "1  /media/2Tb/functional_analysis_jan2021/NeuroMe...  \n",
       "2  /media/2Tb/functional_analysis_jan2021/NeuroMe...  \n",
       "3  /media/2Tb/functional_analysis_jan2021/NeuroMe...  \n",
       "4  /media/2Tb/functional_analysis_jan2021/NeuroMe...  "
      ]
     },
     "execution_count": 51,
     "metadata": {},
     "output_type": "execute_result"
    }
   ],
   "source": [
    "data.head()"
   ]
  },
  {
   "cell_type": "code",
   "execution_count": 52,
   "metadata": {},
   "outputs": [],
   "source": [
    "#data = data.drop([6,29,61,64,72]) # there was for those subs something weird in the denoising"
   ]
  },
  {
   "cell_type": "code",
   "execution_count": 53,
   "metadata": {},
   "outputs": [],
   "source": [
    "data['index'] = data.index"
   ]
  },
  {
   "cell_type": "code",
   "execution_count": 54,
   "metadata": {},
   "outputs": [],
   "source": [
    "# the diag2 == 1 are the healty controls, we have to take the subject numbers for them"
   ]
  },
  {
   "cell_type": "code",
   "execution_count": 55,
   "metadata": {},
   "outputs": [],
   "source": [
    "hc_pos = data[(data.diag == 0)]['index'].values"
   ]
  },
  {
   "cell_type": "code",
   "execution_count": null,
   "metadata": {},
   "outputs": [],
   "source": []
  },
  {
   "cell_type": "code",
   "execution_count": 56,
   "metadata": {},
   "outputs": [
    {
     "name": "stdout",
     "output_type": "stream",
     "text": [
      "CPU times: user 997 ms, sys: 26.4 ms, total: 1.02 s\n",
      "Wall time: 244 ms\n"
     ]
    }
   ],
   "source": [
    "%%time\n",
    "# Summing the HC connectivity masks\n",
    "avg_mask = nib.load(s1_beta_path[list(hc_pos)[0]]).get_fdata()\n",
    "\n",
    "for subnum in list(hc_pos)[1:]: \n",
    "    conn_map = nib.load(s1_beta_path[subnum]).get_fdata() # Load connectivities as numpy array\n",
    "    avg_mask += conn_map"
   ]
  },
  {
   "cell_type": "code",
   "execution_count": 57,
   "metadata": {},
   "outputs": [
    {
     "data": {
      "text/plain": [
       "(91, 109, 91)"
      ]
     },
     "execution_count": 57,
     "metadata": {},
     "output_type": "execute_result"
    }
   ],
   "source": [
    "avg_mask.shape"
   ]
  },
  {
   "cell_type": "code",
   "execution_count": 58,
   "metadata": {},
   "outputs": [],
   "source": [
    "# average\n",
    "avg_mask = avg_mask / len(hc_pos)"
   ]
  },
  {
   "cell_type": "code",
   "execution_count": 59,
   "metadata": {},
   "outputs": [],
   "source": [
    "# thresholding\n",
    "threshold = 0.3 # corresponding p<0.01 for our sample size\n",
    "avg_mask = np.where(avg_mask>threshold,1,0)"
   ]
  },
  {
   "cell_type": "code",
   "execution_count": 60,
   "metadata": {},
   "outputs": [],
   "source": [
    "# Making nii\n",
    "example_img = nib.load(s1_beta_path[list(hc_pos)[0]])\n",
    "mask_nii = nib.Nifti1Image(avg_mask, example_img.affine, header=example_img.header)"
   ]
  },
  {
   "cell_type": "code",
   "execution_count": 61,
   "metadata": {
    "scrolled": true
   },
   "outputs": [
    {
     "data": {
      "text/plain": [
       "<nilearn.plotting.displays.OrthoSlicer at 0x7faea2334b00>"
      ]
     },
     "execution_count": 61,
     "metadata": {},
     "output_type": "execute_result"
    },
    {
     "data": {
      "image/png": "[encoded data removed]",
      "text/plain": [
       "<Figure size 475.2x187.2 with 4 Axes>"
      ]
     },
     "metadata": {},
     "output_type": "display_data"
    }
   ],
   "source": [
    "plotting.plot_roi(mask_nii)"
   ]
  },
  {
   "cell_type": "code",
   "execution_count": 24,
   "metadata": {},
   "outputs": [],
   "source": [
    "# Save mask as NifTi\n",
    "nib.save(mask_nii, 'mIns_avg_Mask_thres_03_HC.nii.gz')"
   ]
  },
  {
   "cell_type": "code",
   "execution_count": 25,
   "metadata": {},
   "outputs": [],
   "source": [
    "# Apply mask to every subject and then average to have the connectivities"
   ]
  },
  {
   "cell_type": "code",
   "execution_count": 62,
   "metadata": {},
   "outputs": [],
   "source": [
    "mask_voxels = avg_mask.sum()"
   ]
  },
  {
   "cell_type": "code",
   "execution_count": 63,
   "metadata": {},
   "outputs": [
    {
     "name": "stdout",
     "output_type": "stream",
     "text": [
      "CPU times: user 507 ms, sys: 32.2 ms, total: 540 ms\n",
      "Wall time: 998 ms\n"
     ]
    }
   ],
   "source": [
    "%%time\n",
    "mean_conn = list()\n",
    "for beta in data.BETA_path:\n",
    "    try:\n",
    "        img = nib.load(beta).get_fdata()\n",
    "        masked_img = np.where(avg_mask,img,0)\n",
    "        mean_conn.append(masked_img.sum()/mask_voxels)\n",
    "    except:\n",
    "        mean_conn.append(0)"
   ]
  },
  {
   "cell_type": "code",
   "execution_count": 64,
   "metadata": {},
   "outputs": [
    {
     "data": {
      "text/plain": [
       "95"
      ]
     },
     "execution_count": 64,
     "metadata": {},
     "output_type": "execute_result"
    }
   ],
   "source": [
    "len(mean_conn)"
   ]
  },
  {
   "cell_type": "code",
   "execution_count": 65,
   "metadata": {},
   "outputs": [
    {
     "data": {
      "text/plain": [
       "95"
      ]
     },
     "execution_count": 65,
     "metadata": {},
     "output_type": "execute_result"
    }
   ],
   "source": [
    "len(data.diag.values)"
   ]
  },
  {
   "cell_type": "code",
   "execution_count": null,
   "metadata": {},
   "outputs": [],
   "source": []
  },
  {
   "cell_type": "code",
   "execution_count": 66,
   "metadata": {},
   "outputs": [
    {
     "data": {
      "text/plain": [
       "<matplotlib.axes._subplots.AxesSubplot at 0x7faea2233208>"
      ]
     },
     "execution_count": 66,
     "metadata": {},
     "output_type": "execute_result"
    },
    {
     "data": {
      "image/png": "[encoded data removed]",
      "text/plain": [
       "<Figure size 432x288 with 1 Axes>"
      ]
     },
     "metadata": {},
     "output_type": "display_data"
    }
   ],
   "source": [
    "sns.boxplot(y=mean_conn, x=data.diag.values)"
   ]
  },
  {
   "cell_type": "code",
   "execution_count": 67,
   "metadata": {},
   "outputs": [],
   "source": [
    "masked_img_nii = nib.Nifti1Image(masked_img, example_img.affine, header=example_img.header)"
   ]
  },
  {
   "cell_type": "code",
   "execution_count": 68,
   "metadata": {},
   "outputs": [
    {
     "data": {
      "text/plain": [
       "<nilearn.plotting.displays.OrthoSlicer at 0x7faea2183be0>"
      ]
     },
     "execution_count": 68,
     "metadata": {},
     "output_type": "execute_result"
    },
    {
     "data": {
      "image/png": "[encoded data removed]",
      "text/plain": [
       "<Figure size 475.2x187.2 with 4 Axes>"
      ]
     },
     "metadata": {},
     "output_type": "display_data"
    }
   ],
   "source": [
    "plotting.plot_roi(masked_img_nii)"
   ]
  },
  {
   "cell_type": "code",
   "execution_count": 38,
   "metadata": {},
   "outputs": [],
   "source": [
    "data['mean_conn'] = mean_conn"
   ]
  },
  {
   "cell_type": "code",
   "execution_count": 39,
   "metadata": {},
   "outputs": [],
   "source": [
    "data.to_csv('conns.csv')"
   ]
  },
  {
   "cell_type": "code",
   "execution_count": null,
   "metadata": {},
   "outputs": [],
   "source": []
  }
 ],
 "metadata": {
  "kernelspec": {
   "display_name": "Python 3",
   "language": "python",
   "name": "python3"
  },
  "language_info": {
   "codemirror_mode": {
    "name": "ipython",
    "version": 3
   },
   "file_extension": ".py",
   "mimetype": "text/x-python",
   "name": "python",
   "nbconvert_exporter": "python",
   "pygments_lexer": "ipython3",
   "version": "3.6.10"
  }
 },
 "nbformat": 4,
 "nbformat_minor": 4
}
