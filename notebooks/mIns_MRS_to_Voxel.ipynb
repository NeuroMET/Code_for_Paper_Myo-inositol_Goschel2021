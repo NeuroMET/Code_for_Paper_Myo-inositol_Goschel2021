{
 "cells": [
  {
   "cell_type": "markdown",
   "metadata": {},
   "source": [
    "# mIns MRS_Voxel-to-Voxel\n",
    "\n",
    "## Make a mask\n",
    "===============\n",
    "\n",
    "The Seed-to-Voxel connectivities from healty controls are averaged and thresholded to 0.2 (corresponding approssimately to p = 0.01), giving the ROI\n",
    "\n",
    "## Extract connectivities\n",
    "=========================\n",
    "\n",
    "After applyng the mask to every connectivity mask (CONN's files with BETA prefix), the connectivities of every grey matter voxel are summed giving the connectivity value for the individual subject.\n",
    "\n",
    "Ref: ToDo\n",
    "\n",
    "\n",
    "Prefixes:\n",
    "=========\n",
    "-) BETA_ nii the BETA files contain the Fisher transformed coefficients ( z=atanh(r) ). When the Analyses.measure is set to 3 (regression) or 4 (multivariate regression), then the BETA files contain the regression coefficients (beta values) and the corr files should be disregarded (they actually contain tanh(beta) but these are not particularly meaningful measures). \n",
    "\n",
    "-) corr_ nii When the Analyses.measure field is set to 1 (bivariate correlation) or 2 (semi-partial correlation) the corr fles contain the correlation coefficients (r) (or semi-partial correlation coefficients when Analyses.measure is set to 2)..... corr_* files are only generated if you select the corresponding option in the Setup->Options tab ('Create first-level seed-to-voxel r-maps').\n",
    "\n",
    "-) p_corr nii the p_corr and pFDR images simply contain the uncorrected and FDR-corrected p-values, respectively\n",
    "\n",
    "-) pFDR nii the p_corr and pFDR images simply contain the uncorrected and FDR-corrected p-values, respectively\n",
    "\n",
    "-) resultsROI mat\n",
    "\n",
    "-) se nii\n",
    "-) "
   ]
  },
  {
   "cell_type": "markdown",
   "metadata": {},
   "source": [
    "## Sources"
   ]
  },
  {
   "cell_type": "code",
   "execution_count": 1,
   "metadata": {},
   "outputs": [],
   "source": [
    "import glob\n",
    "import nibabel as nib\n",
    "import pandas as pd\n",
    "import seaborn as sns\n",
    "import nilearn\n",
    "from nilearn import plotting\n",
    "from nilearn import image\n",
    "import numpy as np\n",
    "from scipy.io import loadmat\n",
    "from scipy import stats\n",
    "import multiprocess as mp\n",
    "from scipy import stats"
   ]
  },
  {
   "cell_type": "code",
   "execution_count": 2,
   "metadata": {},
   "outputs": [],
   "source": [
    "mat = loadmat('/media/sda5/conn_andrea_fmri_neuromet/MRS_Voxel/_list_sources.mat')"
   ]
  },
  {
   "cell_type": "code",
   "execution_count": 3,
   "metadata": {},
   "outputs": [
    {
     "data": {
      "text/plain": [
       "array([[array(['DMN_alldiag_LRPCC_gmmasked'], dtype='<U26'),\n",
       "        array(['DMN_anatomical_gmmasked'], dtype='<U23'),\n",
       "        array(['DMN_alldiag_targets_gmmasked.cluster001'], dtype='<U39'),\n",
       "        array(['DMN_alldiag_targets_gmmasked.cluster002'], dtype='<U39'),\n",
       "        array(['DMN_alldiag_targets_gmmasked.cluster003'], dtype='<U39'),\n",
       "        array(['MRS_Voxel'], dtype='<U9')]], dtype=object)"
      ]
     },
     "execution_count": 3,
     "metadata": {},
     "output_type": "execute_result"
    }
   ],
   "source": [
    "mat['sourcenames']"
   ]
  },
  {
   "cell_type": "code",
   "execution_count": 4,
   "metadata": {},
   "outputs": [],
   "source": [
    "# MRS Voxel is source 6"
   ]
  },
  {
   "cell_type": "code",
   "execution_count": null,
   "metadata": {},
   "outputs": [],
   "source": []
  },
  {
   "cell_type": "code",
   "execution_count": 10,
   "metadata": {},
   "outputs": [
    {
     "data": {
      "text/plain": [
       "87"
      ]
     },
     "execution_count": 10,
     "metadata": {},
     "output_type": "execute_result"
    }
   ],
   "source": [
    "# Grab all MRS-Voxel-to-whole-Brain connectivity maps niftis\n",
    "s1_beta_path = glob.glob('/media/sda5/conn_andrea_fmri_neuromet/MRS_Voxel/BETA_Subject*_Condition001_Source006.nii')\n",
    "len(s1_beta_path)"
   ]
  },
  {
   "cell_type": "code",
   "execution_count": 11,
   "metadata": {},
   "outputs": [],
   "source": [
    "subnumber = len(s1_beta_path)"
   ]
  },
  {
   "cell_type": "code",
   "execution_count": 12,
   "metadata": {},
   "outputs": [],
   "source": [
    "# sort them\n",
    "s1_beta_path = sorted(s1_beta_path, key=(lambda x: x.split('_')[-3][-3:]))"
   ]
  },
  {
   "cell_type": "code",
   "execution_count": 13,
   "metadata": {},
   "outputs": [],
   "source": [
    "# Load Subjects' data"
   ]
  },
  {
   "cell_type": "code",
   "execution_count": 19,
   "metadata": {},
   "outputs": [],
   "source": [
    "cov_path = '/home/orco/Dokumente/Charitè/mIns_fMRI/conn_covs_jun_SCD_MRSVoxel.csv'\n",
    "data = pd.read_csv(cov_path)"
   ]
  },
  {
   "cell_type": "code",
   "execution_count": 20,
   "metadata": {},
   "outputs": [
    {
     "data": {
      "text/html": [
       "<div>\n",
       "<style scoped>\n",
       "    .dataframe tbody tr th:only-of-type {\n",
       "        vertical-align: middle;\n",
       "    }\n",
       "\n",
       "    .dataframe tbody tr th {\n",
       "        vertical-align: top;\n",
       "    }\n",
       "\n",
       "    .dataframe thead th {\n",
       "        text-align: right;\n",
       "    }\n",
       "</style>\n",
       "<table border=\"1\" class=\"dataframe\">\n",
       "  <thead>\n",
       "    <tr style=\"text-align: right;\">\n",
       "      <th></th>\n",
       "      <th>Conn_Nr</th>\n",
       "      <th>NeuroMet_Nr</th>\n",
       "      <th>Age_All</th>\n",
       "      <th>VLMT_Dg7</th>\n",
       "      <th>NeuroMET_MS</th>\n",
       "      <th>Diagnosis</th>\n",
       "      <th>diag2</th>\n",
       "      <th>GSH_All</th>\n",
       "      <th>CRLB</th>\n",
       "      <th>pcc2dmn</th>\n",
       "      <th>pcc2dmn_gm</th>\n",
       "      <th>pcc2gm</th>\n",
       "      <th>pcc2c1</th>\n",
       "      <th>pcc2c2</th>\n",
       "      <th>pcc2c3</th>\n",
       "      <th>pcc2c1_gm</th>\n",
       "      <th>pcc2c2_gm</th>\n",
       "      <th>pcc2c3_gm</th>\n",
       "      <th>mrs2dmn</th>\n",
       "    </tr>\n",
       "  </thead>\n",
       "  <tbody>\n",
       "    <tr>\n",
       "      <th>0</th>\n",
       "      <td>1</td>\n",
       "      <td>3</td>\n",
       "      <td>79.0</td>\n",
       "      <td>6.0</td>\n",
       "      <td>0.54</td>\n",
       "      <td>1.0</td>\n",
       "      <td>2</td>\n",
       "      <td>1094.0</td>\n",
       "      <td>8.0</td>\n",
       "      <td>0.762273</td>\n",
       "      <td>0.756705</td>\n",
       "      <td>0.257774</td>\n",
       "      <td>0.184026</td>\n",
       "      <td>0.848625</td>\n",
       "      <td>0.344404</td>\n",
       "      <td>0.198947</td>\n",
       "      <td>0.649464</td>\n",
       "      <td>0.565006</td>\n",
       "      <td>0.745184</td>\n",
       "    </tr>\n",
       "    <tr>\n",
       "      <th>1</th>\n",
       "      <td>2</td>\n",
       "      <td>4</td>\n",
       "      <td>72.0</td>\n",
       "      <td>14.0</td>\n",
       "      <td>1.02</td>\n",
       "      <td>0.0</td>\n",
       "      <td>0</td>\n",
       "      <td>934.0</td>\n",
       "      <td>12.0</td>\n",
       "      <td>0.931346</td>\n",
       "      <td>0.860219</td>\n",
       "      <td>0.282091</td>\n",
       "      <td>0.522359</td>\n",
       "      <td>1.085046</td>\n",
       "      <td>0.614115</td>\n",
       "      <td>0.418012</td>\n",
       "      <td>1.038114</td>\n",
       "      <td>0.550157</td>\n",
       "      <td>1.322069</td>\n",
       "    </tr>\n",
       "    <tr>\n",
       "      <th>2</th>\n",
       "      <td>3</td>\n",
       "      <td>6</td>\n",
       "      <td>74.0</td>\n",
       "      <td>11.0</td>\n",
       "      <td>1.74</td>\n",
       "      <td>0.0</td>\n",
       "      <td>0</td>\n",
       "      <td>1238.0</td>\n",
       "      <td>10.0</td>\n",
       "      <td>0.548219</td>\n",
       "      <td>0.590011</td>\n",
       "      <td>0.329610</td>\n",
       "      <td>0.266047</td>\n",
       "      <td>0.805199</td>\n",
       "      <td>0.119476</td>\n",
       "      <td>0.230188</td>\n",
       "      <td>0.756401</td>\n",
       "      <td>0.184789</td>\n",
       "      <td>0.670303</td>\n",
       "    </tr>\n",
       "    <tr>\n",
       "      <th>3</th>\n",
       "      <td>4</td>\n",
       "      <td>7</td>\n",
       "      <td>69.0</td>\n",
       "      <td>8.0</td>\n",
       "      <td>1.02</td>\n",
       "      <td>-1.0</td>\n",
       "      <td>1</td>\n",
       "      <td>941.0</td>\n",
       "      <td>13.0</td>\n",
       "      <td>1.093036</td>\n",
       "      <td>1.128538</td>\n",
       "      <td>0.602832</td>\n",
       "      <td>0.347373</td>\n",
       "      <td>1.087209</td>\n",
       "      <td>0.979453</td>\n",
       "      <td>0.274833</td>\n",
       "      <td>1.031719</td>\n",
       "      <td>1.039667</td>\n",
       "      <td>0.960812</td>\n",
       "    </tr>\n",
       "    <tr>\n",
       "      <th>4</th>\n",
       "      <td>5</td>\n",
       "      <td>8</td>\n",
       "      <td>68.0</td>\n",
       "      <td>14.0</td>\n",
       "      <td>1.53</td>\n",
       "      <td>0.0</td>\n",
       "      <td>0</td>\n",
       "      <td>1576.0</td>\n",
       "      <td>8.0</td>\n",
       "      <td>1.283464</td>\n",
       "      <td>1.264611</td>\n",
       "      <td>0.486241</td>\n",
       "      <td>0.680216</td>\n",
       "      <td>1.074172</td>\n",
       "      <td>0.913704</td>\n",
       "      <td>0.859424</td>\n",
       "      <td>0.958173</td>\n",
       "      <td>0.941854</td>\n",
       "      <td>0.597818</td>\n",
       "    </tr>\n",
       "  </tbody>\n",
       "</table>\n",
       "</div>"
      ],
      "text/plain": [
       "   Conn_Nr  NeuroMet_Nr  Age_All  VLMT_Dg7  NeuroMET_MS  Diagnosis diag2  \\\n",
       "0        1            3     79.0       6.0         0.54        1.0     2   \n",
       "1        2            4     72.0      14.0         1.02        0.0     0   \n",
       "2        3            6     74.0      11.0         1.74        0.0     0   \n",
       "3        4            7     69.0       8.0         1.02       -1.0     1   \n",
       "4        5            8     68.0      14.0         1.53        0.0     0   \n",
       "\n",
       "   GSH_All  CRLB   pcc2dmn  pcc2dmn_gm    pcc2gm    pcc2c1    pcc2c2  \\\n",
       "0   1094.0   8.0  0.762273    0.756705  0.257774  0.184026  0.848625   \n",
       "1    934.0  12.0  0.931346    0.860219  0.282091  0.522359  1.085046   \n",
       "2   1238.0  10.0  0.548219    0.590011  0.329610  0.266047  0.805199   \n",
       "3    941.0  13.0  1.093036    1.128538  0.602832  0.347373  1.087209   \n",
       "4   1576.0   8.0  1.283464    1.264611  0.486241  0.680216  1.074172   \n",
       "\n",
       "     pcc2c3  pcc2c1_gm  pcc2c2_gm  pcc2c3_gm   mrs2dmn  \n",
       "0  0.344404   0.198947   0.649464   0.565006  0.745184  \n",
       "1  0.614115   0.418012   1.038114   0.550157  1.322069  \n",
       "2  0.119476   0.230188   0.756401   0.184789  0.670303  \n",
       "3  0.979453   0.274833   1.031719   1.039667  0.960812  \n",
       "4  0.913704   0.859424   0.958173   0.941854  0.597818  "
      ]
     },
     "execution_count": 20,
     "metadata": {},
     "output_type": "execute_result"
    }
   ],
   "source": [
    "data.head()"
   ]
  },
  {
   "cell_type": "code",
   "execution_count": 21,
   "metadata": {},
   "outputs": [],
   "source": [
    "# the diag2 == 1 are the healty controls, we have to take the subject numbers for them"
   ]
  },
  {
   "cell_type": "code",
   "execution_count": 22,
   "metadata": {},
   "outputs": [],
   "source": [
    "hc_num = data[(data.diag2 == '0')]['Conn_Nr'].values"
   ]
  },
  {
   "cell_type": "code",
   "execution_count": 23,
   "metadata": {},
   "outputs": [
    {
     "data": {
      "text/plain": [
       "array([ 1,  2,  4,  5,  6, 10, 14, 24, 26, 33, 35, 40, 42, 43, 46, 57, 68,\n",
       "       71, 78, 84])"
      ]
     },
     "execution_count": 23,
     "metadata": {},
     "output_type": "execute_result"
    }
   ],
   "source": [
    "# the array positions are the Conn_Nr -1\n",
    "hc_pos = hc_num -1\n",
    "hc_pos"
   ]
  },
  {
   "cell_type": "code",
   "execution_count": 51,
   "metadata": {},
   "outputs": [
    {
     "name": "stdout",
     "output_type": "stream",
     "text": [
      "CPU times: user 840 ms, sys: 384 ms, total: 1.22 s\n",
      "Wall time: 1.24 s\n"
     ]
    }
   ],
   "source": [
    "%%time\n",
    "# Summing the HC connectivity masks\n",
    "avg_mask = nib.load(s1_beta_path[list(hc_pos)[0]]).get_fdata()\n",
    "\n",
    "for subnum in list(hc_pos)[1:]: \n",
    "    conn_map = nib.load(s1_beta_path[subnum]).get_fdata() # Load connectivities as numpy array\n",
    "    avg_mask += conn_map"
   ]
  },
  {
   "cell_type": "code",
   "execution_count": 55,
   "metadata": {},
   "outputs": [
    {
     "data": {
      "text/plain": [
       "(181, 217, 181)"
      ]
     },
     "execution_count": 55,
     "metadata": {},
     "output_type": "execute_result"
    }
   ],
   "source": [
    "avg_mask.shape"
   ]
  },
  {
   "cell_type": "code",
   "execution_count": 53,
   "metadata": {},
   "outputs": [],
   "source": [
    "# average\n",
    "avg_mask = avg_mask / len(hc_pos)"
   ]
  },
  {
   "cell_type": "code",
   "execution_count": 54,
   "metadata": {},
   "outputs": [],
   "source": [
    "# thresholding\n",
    "threshold = 0.3 # corresponding p<0.01 for our sample size\n",
    "avg_mask = np.where(avg_mask>threshold,1,0)"
   ]
  },
  {
   "cell_type": "code",
   "execution_count": 32,
   "metadata": {},
   "outputs": [],
   "source": [
    "# Making nii\n",
    "example_img = nib.load(s1_beta_path[list(hc_pos)[0]])\n",
    "mask_nii = nib.Nifti1Image(avg_mask, example_img.affine, header=example_img.header)"
   ]
  },
  {
   "cell_type": "code",
   "execution_count": 33,
   "metadata": {
    "scrolled": true
   },
   "outputs": [
    {
     "data": {
      "text/plain": [
       "<nilearn.plotting.displays.OrthoSlicer at 0x7efeec5cb050>"
      ]
     },
     "execution_count": 33,
     "metadata": {},
     "output_type": "execute_result"
    },
    {
     "data": {
      "image/png": "[encoded data removed]",
      "text/plain": [
       "<Figure size 475.2x187.2 with 4 Axes>"
      ]
     },
     "metadata": {},
     "output_type": "display_data"
    }
   ],
   "source": [
    "plotting.plot_roi(mask_nii)"
   ]
  },
  {
   "cell_type": "code",
   "execution_count": 34,
   "metadata": {},
   "outputs": [],
   "source": [
    "# Save mask as NifTi\n",
    "nib.save(mask_nii, 'mIns_avg_Mask_thres_03_HC.nii.gz')"
   ]
  },
  {
   "cell_type": "code",
   "execution_count": 35,
   "metadata": {},
   "outputs": [],
   "source": [
    "# Apply mask to every subject and then average to have the connectivities"
   ]
  },
  {
   "cell_type": "code",
   "execution_count": 43,
   "metadata": {},
   "outputs": [],
   "source": [
    "mask_voxels = avg_mask.sum()"
   ]
  },
  {
   "cell_type": "code",
   "execution_count": 61,
   "metadata": {},
   "outputs": [
    {
     "name": "stdout",
     "output_type": "stream",
     "text": [
      "CPU times: user 5.12 s, sys: 14.7 s, total: 19.8 s\n",
      "Wall time: 56.5 s\n"
     ]
    }
   ],
   "source": [
    "%%time\n",
    "mean_conn = list()\n",
    "for beta in s1_beta_path:\n",
    "    try:\n",
    "        img = nib.load(beta).get_fdata()\n",
    "        masked_img = np.where(avg_mask,img,0)\n",
    "        mean_conn.append(masked_img.sum()/mask_voxels)\n",
    "    except:\n",
    "        mean_conn.append(0)"
   ]
  },
  {
   "cell_type": "code",
   "execution_count": 63,
   "metadata": {},
   "outputs": [
    {
     "data": {
      "text/plain": [
       "<AxesSubplot:xlabel='diag2'>"
      ]
     },
     "execution_count": 63,
     "metadata": {},
     "output_type": "execute_result"
    },
    {
     "data": {
      "image/png": "[encoded data removed]",
      "text/plain": [
       "<Figure size 432x288 with 1 Axes>"
      ]
     },
     "metadata": {
      "needs_background": "light"
     },
     "output_type": "display_data"
    }
   ],
   "source": [
    "sns.boxplot(y=mean_conn, x=data.diag2)"
   ]
  },
  {
   "cell_type": "code",
   "execution_count": 37,
   "metadata": {},
   "outputs": [],
   "source": [
    "masked_img_nii = nib.Nifti1Image(masked_img, example_img.affine, header=example_img.header)"
   ]
  },
  {
   "cell_type": "code",
   "execution_count": 40,
   "metadata": {},
   "outputs": [
    {
     "data": {
      "text/plain": [
       "<nilearn.plotting.displays.OrthoSlicer at 0x7efee8bb48d0>"
      ]
     },
     "execution_count": 40,
     "metadata": {},
     "output_type": "execute_result"
    },
    {
     "data": {
      "image/png": "[encoded data removed]",
      "text/plain": [
       "<Figure size 475.2x187.2 with 4 Axes>"
      ]
     },
     "metadata": {},
     "output_type": "display_data"
    }
   ],
   "source": [
    "plotting.plot_roi(masked_img_nii, cut_coords=(0,45,21))"
   ]
  }
 ],
 "metadata": {
  "kernelspec": {
   "display_name": "Python 3",
   "language": "python",
   "name": "python3"
  },
  "language_info": {
   "codemirror_mode": {
    "name": "ipython",
    "version": 3
   },
   "file_extension": ".py",
   "mimetype": "text/x-python",
   "name": "python",
   "nbconvert_exporter": "python",
   "pygments_lexer": "ipython3",
   "version": "3.7.9"
  }
 },
 "nbformat": 4,
 "nbformat_minor": 4
}
