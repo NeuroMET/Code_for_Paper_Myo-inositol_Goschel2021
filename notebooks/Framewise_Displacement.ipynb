{
 "cells": [
  {
   "cell_type": "code",
   "execution_count": 1,
   "metadata": {},
   "outputs": [],
   "source": [
    "# Grab framewise displacement values exported from CONN and group them in a CSV"
   ]
  },
  {
   "cell_type": "code",
   "execution_count": 1,
   "metadata": {},
   "outputs": [],
   "source": [
    "import glob\n",
    "import pandas as pd\n",
    "from scipy.io import loadmat\n",
    "import re"
   ]
  },
  {
   "cell_type": "code",
   "execution_count": 68,
   "metadata": {},
   "outputs": [],
   "source": [
    "# at first for FCconn values"
   ]
  },
  {
   "cell_type": "code",
   "execution_count": 18,
   "metadata": {},
   "outputs": [],
   "source": [
    "# grab file names\n",
    "f1 = glob.glob('/home/WorkFlowTemp/functional_analysis_mar_2019/20190701/NeuroMet*/bold/QC_FDconn*.bold_FieldCorr.mat')\n",
    "f2 = glob.glob('/media/drive_s/AG/AG-Floeel-Imaging/02-User/NEUROMET2/EPI_Fieldmap_distortion_correction/QC_FDconn*.bold_FieldCorr.mat')"
   ]
  },
  {
   "cell_type": "code",
   "execution_count": 19,
   "metadata": {},
   "outputs": [],
   "source": [
    "file_list = f1 + f2"
   ]
  },
  {
   "cell_type": "code",
   "execution_count": 22,
   "metadata": {},
   "outputs": [
    {
     "data": {
      "text/plain": [
       "86"
      ]
     },
     "execution_count": 22,
     "metadata": {},
     "output_type": "execute_result"
    }
   ],
   "source": [
    "len(file_list)"
   ]
  },
  {
   "cell_type": "code",
   "execution_count": 69,
   "metadata": {},
   "outputs": [],
   "source": [
    "# Make a dictionary [subject_number:framewise displacement array]\n",
    "d = dict()\n",
    "for f in file_list:\n",
    "    d[ re.findall(r'[0-9][0-9][0-9]',f)[-1] ] = loadmat(f)['R'][:].reshape(300)"
   ]
  },
  {
   "cell_type": "code",
   "execution_count": 53,
   "metadata": {},
   "outputs": [],
   "source": [
    "pd.DataFrame.from_dict(d).to_csv('QC_FDconn.csv')"
   ]
  },
  {
   "cell_type": "code",
   "execution_count": 58,
   "metadata": {},
   "outputs": [],
   "source": [
    "d_mean = dict()\n",
    "for i in d:\n",
    "    d_mean[i] = d[i].mean()"
   ]
  },
  {
   "cell_type": "code",
   "execution_count": 66,
   "metadata": {},
   "outputs": [],
   "source": [
    "pd.Series(d_mean).to_csv('QC_FDconn_mean.csv')"
   ]
  },
  {
   "cell_type": "code",
   "execution_count": 71,
   "metadata": {},
   "outputs": [],
   "source": [
    "# Same for FDjenkinson values"
   ]
  },
  {
   "cell_type": "code",
   "execution_count": 76,
   "metadata": {},
   "outputs": [],
   "source": [
    "# grab file names\n",
    "f1 = glob.glob('/home/WorkFlowTemp/functional_analysis_mar_2019/20190701/NeuroMet*/bold/QC_FDjenkinson*.bold_FieldCorr.mat')\n",
    "f2 = glob.glob('/media/drive_s/AG/AG-Floeel-Imaging/02-User/NEUROMET2/EPI_Fieldmap_distortion_correction/QC_FDjenkinson*.bold_FieldCorr.mat')"
   ]
  },
  {
   "cell_type": "code",
   "execution_count": 77,
   "metadata": {},
   "outputs": [
    {
     "data": {
      "text/plain": [
       "86"
      ]
     },
     "execution_count": 77,
     "metadata": {},
     "output_type": "execute_result"
    }
   ],
   "source": [
    "file_list = f1 + f2\n",
    "len(file_list)"
   ]
  },
  {
   "cell_type": "code",
   "execution_count": 78,
   "metadata": {},
   "outputs": [],
   "source": [
    "# Make a dictionary [subject_number:framewise displacement array]\n",
    "d = dict()\n",
    "for f in file_list:\n",
    "    d[ re.findall(r'[0-9][0-9][0-9]',f)[-1] ] = loadmat(f)['R'][:].reshape(300)\n",
    "pd.DataFrame.from_dict(d).to_csv('QC_FDjenkinson.csv')"
   ]
  },
  {
   "cell_type": "code",
   "execution_count": 79,
   "metadata": {},
   "outputs": [],
   "source": [
    "d_mean = dict()\n",
    "for i in d:\n",
    "    d_mean[i] = d[i].mean()\n",
    "pd.Series(d_mean).to_csv('QC_FDjenkinson_mean.csv')"
   ]
  },
  {
   "cell_type": "code",
   "execution_count": null,
   "metadata": {},
   "outputs": [],
   "source": []
  }
 ],
 "metadata": {
  "kernelspec": {
   "display_name": "Python 3",
   "language": "python",
   "name": "python3"
  },
  "language_info": {
   "codemirror_mode": {
    "name": "ipython",
    "version": 3
   },
   "file_extension": ".py",
   "mimetype": "text/x-python",
   "name": "python",
   "nbconvert_exporter": "python",
   "pygments_lexer": "ipython3",
   "version": "3.6.5"
  }
 },
 "nbformat": 4,
 "nbformat_minor": 4
}
